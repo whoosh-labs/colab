{
  "cells": [
    {
      "cell_type": "markdown",
      "metadata": {
        "id": "8OBZz8kPiwI5"
      },
      "source": [
        "## 🪄 Install `raga-testing-platform` library\n"
      ]
    },
    {
      "cell_type": "code",
      "execution_count": null,
      "metadata": {
        "id": "2rAbps56ld7j"
      },
      "outputs": [],
      "source": [
        "pip install raga-testing-platform -U"
      ]
    },
    {
      "cell_type": "markdown",
      "metadata": {
        "id": "RAVi1mG1i7sQ"
      },
      "source": [
        "### Put your `ACCESS KEY & SECRET KEY`\n",
        "\n",
        "---\n"
      ]
    },
    {
      "cell_type": "code",
      "execution_count": 1,
      "metadata": {
        "id": "HhMMwVG3i-2A"
      },
      "outputs": [],
      "source": [
        "# Define the access key, secret key, and host\n",
        "ACCESS_KEY = \"Put access key\"\n",
        "SECRET_KEY = \"Put secret key\"\n",
        "HOST = \"https://backend.platform.raga.ai\""
      ]
    },
    {
      "cell_type": "markdown",
      "metadata": {
        "id": "qolBny1RjHfb"
      },
      "source": [
        "### Import All raga lib from raga module\n"
      ]
    },
    {
      "cell_type": "code",
      "execution_count": 2,
      "metadata": {
        "id": "xLEsDI3EjMv5"
      },
      "outputs": [],
      "source": [
        "from raga import *\n",
        "import datetime"
      ]
    },
    {
      "cell_type": "markdown",
      "metadata": {
        "id": "QtN7S-W0jewP"
      },
      "source": [
        "## #`Object Detection Dataset v2 (Dummy patients with KneeCoil)`\n"
      ]
    },
    {
      "cell_type": "code",
      "execution_count": 6,
      "metadata": {
        "id": "XeybbPswrlQM"
      },
      "outputs": [],
      "source": [
        "run_name = f\"Kneecoil_Detection_v4\""
      ]
    },
    {
      "cell_type": "markdown",
      "metadata": {
        "id": "1vn_LlynkR5k"
      },
      "source": [
        "### Drift Detection Test\n",
        "\n",
        "---\n"
      ]
    },
    {
      "cell_type": "code",
      "execution_count": null,
      "metadata": {
        "id": "cgFqfMumjebY"
      },
      "outputs": [],
      "source": [
        "\n",
        "\n",
        "test_session = TestSession(\n",
        "    project_name=\"KneeCoil Detection\",\n",
        "    run_name=run_name,\n",
        "    access_key=ACCESS_KEY,\n",
        "    secret_key=SECRET_KEY,\n",
        "    host=HOST\n",
        ")\n",
        "\n",
        "train_dataset_name = \"philip_train_dataset_v1\"\n",
        "test_dataset_name = \"kneecoil_april\"\n",
        "\n",
        "rules = DriftDetectionRules()\n",
        "rules.add(type=\"single_class_anomaly_detection\", dist_metric=\"Mahalanobis\", _class=\"ALL\", threshold= 44)\n",
        "\n",
        "edge_case_detection = data_drift_detection(test_session=test_session,\n",
        "                                           test_name=f\"philip_drift_v1_{datetime.datetime.now().strftime('%Y%m%d%H%M%S')}\",\n",
        "                                           train_dataset_name=train_dataset_name,\n",
        "                                           field_dataset_name=test_dataset_name,\n",
        "                                           train_embed_col_name=\"ImageEmbedding\",\n",
        "                                           field_embed_col_name = \"ImageVectorsM1\",\n",
        "                                           level = \"image\",\n",
        "                                           rules = rules)\n",
        "\n",
        "\n",
        "test_session.add(edge_case_detection)\n",
        "\n",
        "test_session.run()"
      ]
    },
    {
      "cell_type": "markdown",
      "metadata": {
        "id": "BzvgXNqXk1rM"
      },
      "source": [
        "## ###Near Duplicates Test\n"
      ]
    },
    {
      "cell_type": "code",
      "execution_count": null,
      "metadata": {
        "id": "TvpTMFbAk08A"
      },
      "outputs": [],
      "source": [
        "test_session = TestSession(\n",
        "    project_name=\"KneeCoil Detection\",\n",
        "    run_name=run_name,\n",
        "    access_key=ACCESS_KEY,\n",
        "    secret_key=SECRET_KEY,\n",
        "    host=HOST\n",
        ")\n",
        "rules = LQRules()\n",
        "rules.add(metric=\"similarity_score\", metric_threshold=0.99)\n",
        "\n",
        "train_dataset_name = \"philip_train_dataset_v1\"\n",
        "# test_dataset_name = \"philip_val_dataset_v1\"\n",
        "\n",
        "edge_case_detection = nearest_duplicate(test_session=test_session,\n",
        "                                          dataset_name = train_dataset_name,\n",
        "                                          test_name = f\"Near-Duplicates-v1-{datetime.datetime.now().strftime('%Y%m%d%H%M%S')}\",\n",
        "                                          type = \"near_duplicates\",\n",
        "                                          output_type=\"near_duplicates\",\n",
        "                                          embed_col_name=\"ImageEmbedding\",\n",
        "                                          rules=rules)\n",
        "\n",
        "test_session.add(edge_case_detection)\n",
        "\n",
        "test_session.run()"
      ]
    },
    {
      "cell_type": "markdown",
      "metadata": {
        "id": "zA9d91t-k9dp"
      },
      "source": [
        "## ###Outlier Detection Test\n"
      ]
    },
    {
      "cell_type": "code",
      "execution_count": null,
      "metadata": {
        "id": "_pqeemYMk_5j"
      },
      "outputs": [],
      "source": [
        "test_session = TestSession(\n",
        "    project_name=\"KneeCoil Detection\",\n",
        "    run_name=run_name,\n",
        "    access_key=ACCESS_KEY,\n",
        "    secret_key=SECRET_KEY,\n",
        "    host=HOST\n",
        ")\n",
        "train_dataset_name = \"philip_train_dataset_v1\"\n",
        "# test_dataset_name = \"philip_val_dataset_v1\"\n",
        "\n",
        "rules = DriftDetectionRules()\n",
        "rules.add(type=\"anomaly_detection\", dist_metric=\"Mahalanobis\", _class=\"ALL\", threshold=18.57)\n",
        "\n",
        "edge_case_detection = data_drift_detection(test_session=test_session,\n",
        "                                           test_name=f\"Outlier_detection-{datetime.datetime.now().strftime('%Y%m%d%H%M%S')}\",\n",
        "                                           dataset_name= train_dataset_name,\n",
        "                                           embed_col_name=\"ImageEmbedding\",\n",
        "                                           output_type = \"outlier_detection\",\n",
        "                                           rules = rules)\n",
        "\n",
        "\n",
        "test_session.add(edge_case_detection)\n",
        "\n",
        "test_session.run()"
      ]
    },
    {
      "cell_type": "markdown",
      "metadata": {
        "id": "p8DK-B5ElDBA"
      },
      "source": [
        "## ###Failure Mode Analysis Test - Clustering\n"
      ]
    },
    {
      "cell_type": "code",
      "execution_count": null,
      "metadata": {
        "id": "elFyMdWBltn6"
      },
      "outputs": [],
      "source": [
        "test_session = TestSession(\n",
        "    project_name=\"KneeCoil Detection\",\n",
        "    run_name=run_name,\n",
        "    access_key=ACCESS_KEY,\n",
        "    secret_key=SECRET_KEY,\n",
        "    host=HOST\n",
        ")\n",
        "dataset_name = \"kneecoil_april\"\n",
        "\n",
        "rules = FMARules()\n",
        "rules.add(metric=\"Precision\", conf_threshold=0.3, metric_threshold=0.7, iou_threshold=0.5, label=\"ALL\")\n",
        "rules.add(metric=\"F1Score\", conf_threshold=0.3, metric_threshold=0.7, iou_threshold=0.5, label=\"ALL\")\n",
        "rules.add(metric=\"Recall\", conf_threshold=0.3, metric_threshold=0.7, iou_threshold=0.5, label=\"ALL\")\n",
        "\n",
        "cls_default = clustering(test_session=test_session, dataset_name = dataset_name, method=\"k-means\", embedding_col=\"ImageVectorsM1\", level=\"image\", args= {\"numOfClusters\": 8}, force=True)\n",
        "\n",
        "edge_case_detection = failure_mode_analysis(test_session=test_session,\n",
        "                                            dataset_name = dataset_name,\n",
        "                                            test_name = f\"FMA_Clustering-{datetime.datetime.now().strftime('%Y%m%d%H%M%S')}\",\n",
        "                                            model = \"ModelA\",\n",
        "                                            gt = \"GT\",\n",
        "                                            rules = rules,\n",
        "                                            output_type=\"object_detection\",\n",
        "                                            type=\"embedding\",\n",
        "                                            clustering=cls_default\n",
        "                                            )\n",
        "\n",
        "test_session.add(edge_case_detection)\n",
        "\n",
        "test_session.run()"
      ]
    },
    {
      "cell_type": "markdown",
      "metadata": {
        "id": "dC_HfyAhlvNG"
      },
      "source": [
        "###Failure Mode Analysis Test - Metadata\n",
        "\n",
        "---\n"
      ]
    },
    {
      "cell_type": "code",
      "execution_count": null,
      "metadata": {
        "id": "p8UKz2hil4Hq"
      },
      "outputs": [],
      "source": [
        "test_session = TestSession(\n",
        "    project_name=\"KneeCoil Detection\",\n",
        "    run_name=run_name,\n",
        "    access_key=ACCESS_KEY,\n",
        "    secret_key=SECRET_KEY,\n",
        "    host=HOST\n",
        ")\n",
        "\n",
        "dataset_name = \"kneecoil_april\"\n",
        "\n",
        "rules = FMARules()\n",
        "rules.add(metric=\"Precision\", conf_threshold=0.4, metric_threshold=0.6, iou_threshold=0.4, label=\"ALL\")\n",
        "\n",
        "\n",
        "edge_case_detection = failure_mode_analysis(test_session=test_session,\n",
        "                                            dataset_name = dataset_name,\n",
        "                                            test_name = f\"fma_meta1-{datetime.datetime.now().strftime('%Y%m%d%H%M%S')}\",\n",
        "                                            model = \"ModelA\",\n",
        "                                            gt = \"GT\",\n",
        "                                            rules = rules,\n",
        "                                            output_type=\"object_detection\",\n",
        "                                            type=\"metadata\",\n",
        "                                            aggregation_level=['Brightness']\n",
        "                                            )\n",
        "\n",
        "test_session.add(edge_case_detection)\n",
        "\n",
        "test_session.run()"
      ]
    },
    {
      "cell_type": "markdown",
      "metadata": {
        "id": "uJrnYh-1l5VP"
      },
      "source": [
        "## ###Scenario Imbalance Test\n"
      ]
    },
    {
      "cell_type": "code",
      "execution_count": null,
      "metadata": {
        "id": "9H2876wTl7H5"
      },
      "outputs": [],
      "source": [
        "test_session = TestSession(\n",
        "    project_name=\"KneeCoil Detection\",\n",
        "    run_name=run_name,\n",
        "    access_key=ACCESS_KEY,\n",
        "    secret_key=SECRET_KEY,\n",
        "    host=HOST\n",
        ")\n",
        "augmented_dataset_name = \"kneecoil_april\"\n",
        "# test_dataset_name = \"philip_val_dataset_v1\"\n",
        "\n",
        "rules = SBRules()\n",
        "rules.add(metric=\"js_divergence\", ideal_distribution=\"uniform\", metric_threshold=0.1)\n",
        "rules.add(metric=\"chi_squared_test\", ideal_distribution=\"uniform\", metric_threshold=0.1)\n",
        "\n",
        "edge_case_detection = scenario_imbalance(test_session=test_session,\n",
        "                                            dataset_name = augmented_dataset_name,\n",
        "                                            test_name = f\"Scenario_Imbalance4-{datetime.datetime.now().strftime('%Y%m%d%H%M%S')}\",\n",
        "                                            type = \"scenario_imbalance\",\n",
        "                                            output_type=\"metadata\",\n",
        "                                            rules = rules,\n",
        "                                            aggregationLevels=[\"Brightness\"]\n",
        "                                             )\n",
        "\n",
        "test_session.add(edge_case_detection)\n",
        "\n",
        "test_session.run()"
      ]
    },
    {
      "cell_type": "markdown",
      "metadata": {
        "id": "qOGLjfDZl_hU"
      },
      "source": [
        "## ###Labeling Quality Test\n"
      ]
    },
    {
      "cell_type": "code",
      "execution_count": null,
      "metadata": {
        "id": "Uc0kwEHVmFC0"
      },
      "outputs": [],
      "source": [
        "test_session = TestSession(\n",
        "    project_name=\"KneeCoil Detection\",\n",
        "    run_name=run_name,\n",
        "    access_key=ACCESS_KEY,\n",
        "    secret_key=SECRET_KEY,\n",
        "    host=HOST\n",
        ")\n",
        "dataset_name = \"philips_field_data_mistakes\"\n",
        "\n",
        "rules = LQRules()\n",
        "rules.add(metric=\"mistake_score\", label=[\"ALL\"], metric_threshold= 0.266)\n",
        "\n",
        "\n",
        "edge_case_detection = labelling_quality_test(test_session=test_session,\n",
        "                                            dataset_name = dataset_name,\n",
        "                                            test_name = f\"Labeling Quality Test-{datetime.datetime.now().strftime('%Y%m%d%H%M%S')}\",\n",
        "                                            type = \"labelling_consistency\",\n",
        "                                            output_type=\"object_detection\",\n",
        "                                            mistake_score_col_name = \"MistakeScore\",\n",
        "                                            gt=\"GT\",\n",
        "                                            model=\"GT\",\n",
        "                                            rules = rules)\n",
        "test_session.add(edge_case_detection)\n",
        "\n",
        "test_session.run()"
      ]
    },
    {
      "cell_type": "markdown",
      "metadata": {
        "id": "BS4I62r6nald"
      },
      "source": [
        "## #`Object Detection Dataset v1 (Various backgrounds with KneeCoil)`\n"
      ]
    },
    {
      "cell_type": "code",
      "execution_count": 22,
      "metadata": {
        "id": "gCShr3Mrrs9m"
      },
      "outputs": [],
      "source": [
        "run_name2 = f\"Kneecoil-Detection_v5\""
      ]
    },
    {
      "cell_type": "markdown",
      "metadata": {
        "id": "BTrldJuZnrBf"
      },
      "source": [
        "### Data Drift Test\n",
        "\n",
        "---\n"
      ]
    },
    {
      "cell_type": "code",
      "execution_count": null,
      "metadata": {
        "id": "In3QGmsfngrK"
      },
      "outputs": [],
      "source": [
        "test_session = TestSession(\n",
        "    project_name=\"KneeCoil Detection\",\n",
        "    run_name=run_name2,\n",
        "    access_key=ACCESS_KEY,\n",
        "    secret_key=SECRET_KEY,\n",
        "    host=HOST\n",
        ")\n",
        "\n",
        "train_dataset_name = \"philip_train_dataset_v1\"\n",
        "test_dataset_name = \"philip_val_dataset_v1\"\n",
        "\n",
        "rules = DriftDetectionRules()\n",
        "rules.add(type=\"single_class_anomaly_detection\", dist_metric=\"Mahalanobis\", _class=\"ALL\", threshold= 42)\n",
        "\n",
        "edge_case_detection = data_drift_detection(test_session=test_session,\n",
        "                                           test_name=f\"philip_drift_v1-{datetime.datetime.now().strftime('%Y%m%d%H%M%S')}\",\n",
        "                                           train_dataset_name=train_dataset_name,\n",
        "                                           field_dataset_name=test_dataset_name,\n",
        "                                           train_embed_col_name=\"ImageEmbedding\",\n",
        "                                           field_embed_col_name = \"ImageEmbedding\",\n",
        "                                           level = \"image\",\n",
        "                                           rules = rules)\n",
        "\n",
        "\n",
        "test_session.add(edge_case_detection)\n",
        "\n",
        "test_session.run()\n"
      ]
    },
    {
      "cell_type": "markdown",
      "metadata": {
        "id": "6DApC0Z2o8Qp"
      },
      "source": [
        "## ###Active Learning Test\n"
      ]
    },
    {
      "cell_type": "code",
      "execution_count": null,
      "metadata": {
        "id": "Qk5f4Bzdo522"
      },
      "outputs": [],
      "source": [
        "budget = 2000\n",
        "\n",
        "test_session = TestSession(\n",
        "    project_name=\"KneeCoil Detection\",\n",
        "    run_name=run_name2,\n",
        "    access_key=ACCESS_KEY,\n",
        "    secret_key=SECRET_KEY,\n",
        "    host=HOST\n",
        ")\n",
        "\n",
        "train_dataset_name = \"philip_train_dataset_v1\"\n",
        "# test_dataset_name = \"philip_val_dataset_v1\"\n",
        "\n",
        "edge_case_detection = active_learning(test_session=test_session,\n",
        "                                      dataset_name = train_dataset_name,\n",
        "                                      test_name = f\"active_learniing_train_v1-{datetime.datetime.now().strftime('%Y%m%d%H%M%S')}\",\n",
        "                                      type = \"active_learning\",\n",
        "                                      output_type=\"curated_dataset\",\n",
        "                                      embed_col_name=\"ImageEmbedding\",\n",
        "                                      budget=budget)\n",
        "\n",
        "test_session.add(edge_case_detection)\n",
        "\n",
        "test_session.run()"
      ]
    },
    {
      "cell_type": "markdown",
      "metadata": {
        "id": "3_6VI8QZpN54"
      },
      "source": [
        "## ###Near Duplicates Test\n"
      ]
    },
    {
      "cell_type": "code",
      "execution_count": null,
      "metadata": {
        "id": "JEzLOg24pNlF"
      },
      "outputs": [],
      "source": [
        "test_session = TestSession(\n",
        "    project_name=\"KneeCoil Detection\",\n",
        "    run_name=run_name2,\n",
        "    access_key=ACCESS_KEY,\n",
        "    secret_key=SECRET_KEY,\n",
        "    host=HOST\n",
        ")\n",
        "rules = LQRules()\n",
        "rules.add(metric=\"similarity_score\", metric_threshold=0.94)\n",
        "\n",
        "train_dataset_name = \"philip_train_dataset_v1\"\n",
        "# test_dataset_name = \"philip_val_dataset_v1\"\n",
        "\n",
        "edge_case_detection = nearest_duplicate(test_session=test_session,\n",
        "                                          dataset_name = train_dataset_name,\n",
        "                                          test_name = f\"Near-Duplicates-v1-{datetime.datetime.now().strftime('%Y%m%d%H%M%S')}\",\n",
        "                                          type = \"near_duplicates\",\n",
        "                                          output_type=\"near_duplicates\",\n",
        "                                          embed_col_name=\"ImageEmbedding\",\n",
        "                                          rules=rules)\n",
        "\n",
        "test_session.add(edge_case_detection)\n",
        "\n",
        "test_session.run()"
      ]
    },
    {
      "cell_type": "markdown",
      "metadata": {
        "id": "7CQYo76Opt6b"
      },
      "source": [
        "###Data Leakage Test\n"
      ]
    },
    {
      "cell_type": "code",
      "execution_count": null,
      "metadata": {
        "id": "7f0OTOAhpVNn"
      },
      "outputs": [],
      "source": [
        "test_session = TestSession(\n",
        "    project_name=\"KneeCoil Detection\",\n",
        "    run_name=run_name2,\n",
        "    access_key=ACCESS_KEY,\n",
        "    secret_key=SECRET_KEY,\n",
        "    host=HOST\n",
        ")\n",
        "\n",
        "train_dataset_name = \"philip_train_dataset_v1\"\n",
        "test_dataset_name = \"philip_val_dataset_v1\"\n",
        "\n",
        "rules = LQRules()\n",
        "rules.add(metric = 'overlapping_samples', metric_threshold = 0.95)\n",
        "\n",
        "\n",
        "edge_case_detection = data_leakage_test(test_session=test_session,\n",
        "                                           test_name=f\"dataleakage_philips_v1-{datetime.datetime.now().strftime('%Y%m%d%H%M%S')}\",\n",
        "                                           train_dataset_name=train_dataset_name,\n",
        "                                           dataset_name=test_dataset_name,\n",
        "                                           type = \"data_leakage\",\n",
        "                                           output_type=\"image_data\",\n",
        "                                           train_embed_col_name=\"ImageEmbedding\",\n",
        "                                           embed_col_name = \"ImageEmbedding\",\n",
        "                                           rules = rules)\n",
        "\n",
        "test_session.add(edge_case_detection)\n",
        "\n",
        "test_session.run()"
      ]
    },
    {
      "cell_type": "markdown",
      "metadata": {
        "id": "SoOOglj3p2ex"
      },
      "source": [
        "## ###Outlier Detection\n"
      ]
    },
    {
      "cell_type": "code",
      "execution_count": null,
      "metadata": {
        "id": "sFmeZ_8Bp6rL"
      },
      "outputs": [],
      "source": [
        "test_session = TestSession(\n",
        "    project_name=\"KneeCoil Detection\",\n",
        "    run_name=run_name2,\n",
        "    access_key=ACCESS_KEY,\n",
        "    secret_key=SECRET_KEY,\n",
        "    host=HOST\n",
        ")\n",
        "train_dataset_name = \"philip_train_dataset_v1\"\n",
        "# test_dataset_name = \"philip_val_dataset_v1\"\n",
        "\n",
        "rules = DriftDetectionRules()\n",
        "rules.add(type=\"anomaly_detection\", dist_metric=\"Mahalanobis\", _class=\"ALL\", threshold=40)\n",
        "\n",
        "edge_case_detection = data_drift_detection(test_session=test_session,\n",
        "                                           test_name=f\"Outlier_detection-{datetime.datetime.now().strftime('%Y%m%d%H%M%S')}\",\n",
        "                                           dataset_name= train_dataset_name,\n",
        "                                           embed_col_name=\"ImageEmbedding\",\n",
        "                                           output_type = \"outlier_detection\",\n",
        "                                           rules = rules)\n",
        "\n",
        "\n",
        "test_session.add(edge_case_detection)\n",
        "\n",
        "test_session.run()"
      ]
    },
    {
      "cell_type": "markdown",
      "metadata": {
        "id": "tI6LQCSYqBhY"
      },
      "source": [
        "## ###Failure Mode Analysis - Clustering\n"
      ]
    },
    {
      "cell_type": "code",
      "execution_count": null,
      "metadata": {
        "id": "9klfWGmQqBR-"
      },
      "outputs": [],
      "source": [
        "test_session = TestSession(\n",
        "    project_name=\"KneeCoil Detection\",\n",
        "    run_name=run_name2,\n",
        "    access_key=ACCESS_KEY,\n",
        "    secret_key=SECRET_KEY,\n",
        "    host=HOST\n",
        ")\n",
        "augmented_dataset_name = \"train_augmentation\"\n",
        "# test_dataset_name = \"philip_val_dataset_v1\"\n",
        "\n",
        "rules = FMARules()\n",
        "rules.add(metric=\"Precision\", conf_threshold=0.4, metric_threshold=0.7, iou_threshold=0.4, label=\"ALL\")\n",
        "rules.add(metric=\"F1Score\", conf_threshold=0.4, metric_threshold=0.7, iou_threshold=0.4, label=\"ALL\")\n",
        "rules.add(metric=\"Recall\", conf_threshold=0.4, metric_threshold=0.7, iou_threshold=0.4, label=\"ALL\")\n",
        "\n",
        "cls_default = clustering(test_session=test_session, dataset_name = augmented_dataset_name, method=\"k-means\", embedding_col=\"ImageVectorsM1\", level=\"image\", args= {\"numOfClusters\": 8}, force=True)\n",
        "\n",
        "edge_case_detection = failure_mode_analysis(test_session=test_session,\n",
        "                                            dataset_name = augmented_dataset_name,\n",
        "                                            test_name = f\"FMA_Clustering-{datetime.datetime.now().strftime('%Y%m%d%H%M%S')}\",\n",
        "                                            model = \"ModelA\",\n",
        "                                            gt = \"GT\",\n",
        "                                            rules = rules,\n",
        "                                            output_type=\"object_detection\",\n",
        "                                            type=\"embedding\",\n",
        "                                            clustering=cls_default\n",
        "                                            )\n",
        "\n",
        "test_session.add(edge_case_detection)\n",
        "\n",
        "test_session.run()"
      ]
    },
    {
      "cell_type": "markdown",
      "metadata": {
        "id": "Nb5n_QMaqOqW"
      },
      "source": [
        "## ###Failure Mode Analysis - Metadata\n"
      ]
    },
    {
      "cell_type": "code",
      "execution_count": null,
      "metadata": {
        "id": "HudI1v0JqUxd"
      },
      "outputs": [],
      "source": [
        "test_session = TestSession(\n",
        "    project_name=\"KneeCoil Detection\",\n",
        "    run_name=run_name2,\n",
        "    access_key=ACCESS_KEY,\n",
        "    secret_key=SECRET_KEY,\n",
        "    host=HOST\n",
        ")\n",
        "\n",
        "augmented_dataset_name = \"train_augmentation\"\n",
        "\n",
        "rules = FMARules()\n",
        "rules.add(metric=\"Precision\", conf_threshold=0.4, metric_threshold=0.5, iou_threshold=0.4, label=\"ALL\")\n",
        "\n",
        "\n",
        "edge_case_detection = failure_mode_analysis(test_session=test_session,\n",
        "                                            dataset_name = augmented_dataset_name,\n",
        "                                            test_name = f\"fma_meta1-{datetime.datetime.now().strftime('%Y%m%d%H%M%S')}\",\n",
        "                                            model = \"ModelA\",\n",
        "                                            gt = \"GT\",\n",
        "                                            rules = rules,\n",
        "                                            output_type=\"object_detection\",\n",
        "                                            type=\"metadata\",\n",
        "                                            aggregation_level=['Augmentation']\n",
        "                                            )\n",
        "\n",
        "test_session.add(edge_case_detection)\n",
        "\n",
        "test_session.run()"
      ]
    },
    {
      "cell_type": "markdown",
      "metadata": {
        "id": "OL2tkAVuqjTA"
      },
      "source": [
        "## ###Scenario Imbalance\n"
      ]
    },
    {
      "cell_type": "code",
      "execution_count": null,
      "metadata": {
        "id": "m1ua__X6qY_i"
      },
      "outputs": [],
      "source": [
        "test_session = TestSession(\n",
        "    project_name=\"KneeCoil Detection\",\n",
        "    run_name=run_name2,\n",
        "    access_key=ACCESS_KEY,\n",
        "    secret_key=SECRET_KEY,\n",
        "    host=HOST\n",
        ")\n",
        "\n",
        "augmented_dataset_name = \"train_augmentation\"\n",
        "\n",
        "rules = SBRules()\n",
        "rules.add(metric=\"js_divergence\", ideal_distribution=\"uniform\", metric_threshold=0.1)\n",
        "rules.add(metric=\"chi_squared_test\", ideal_distribution=\"uniform\", metric_threshold=0.1)\n",
        "\n",
        "edge_case_detection = scenario_imbalance(test_session=test_session,\n",
        "                                            dataset_name = augmented_dataset_name,\n",
        "                                            test_name = f\"Scenario_Imbalance4-{datetime.datetime.now().strftime('%Y%m%d%H%M%S')}\",\n",
        "                                            type = \"scenario_imbalance\",\n",
        "                                            output_type=\"metadata\",\n",
        "                                            rules = rules,\n",
        "                                            aggregationLevels=[\"Augmentation\"]\n",
        "                                             )\n",
        "\n",
        "test_session.add(edge_case_detection)\n",
        "\n",
        "test_session.run()"
      ]
    },
    {
      "cell_type": "markdown",
      "metadata": {
        "id": "sCFbk9Jzqsj-"
      },
      "source": [
        "## ###Labeling Quality Test\n"
      ]
    },
    {
      "cell_type": "code",
      "execution_count": null,
      "metadata": {
        "id": "qSN3oi79qudh"
      },
      "outputs": [],
      "source": [
        "test_session = TestSession(\n",
        "    project_name=\"KneeCoil Detection\",\n",
        "    run_name=run_name2,\n",
        "    access_key=ACCESS_KEY,\n",
        "    secret_key=SECRET_KEY,\n",
        "    host=HOST\n",
        ")\n",
        "dataset_name = \"train13\"\n",
        "\n",
        "rules = LQRules()\n",
        "rules.add(metric=\"mistake_score\", label=[\"ALL\"], metric_threshold=0.93)\n",
        "\n",
        "\n",
        "edge_case_detection = labelling_quality_test(test_session=test_session,\n",
        "                                            dataset_name = dataset_name,\n",
        "                                            test_name = f\"Labeling Quality Test-{datetime.datetime.now().strftime('%Y%m%d%H%M%S')}\",\n",
        "                                            type = \"labelling_consistency\",\n",
        "                                            output_type=\"object_detection\",\n",
        "                                            mistake_score_col_name = \"MistakeScore\",\n",
        "                                            gt=\"GT\",\n",
        "                                            model=\"GT\",\n",
        "                                            rules = rules)\n",
        "test_session.add(edge_case_detection)\n",
        "\n",
        "test_session.run()"
      ]
    }
  ],
  "metadata": {
    "colab": {
      "provenance": []
    },
    "kernelspec": {
      "display_name": "Python 3",
      "name": "python3"
    },
    "language_info": {
      "name": "python"
    }
  },
  "nbformat": 4,
  "nbformat_minor": 0
}
