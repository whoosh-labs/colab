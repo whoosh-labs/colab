{
 "cells": [
  {
   "cell_type": "markdown",
   "metadata": {
    "id": "AsHqbEo0ldgZ"
   },
   "source": [
    "## 🪄 Install `raga-testing-platform` library\n"
   ]
  },
  {
   "cell_type": "code",
   "execution_count": null,
   "metadata": {
    "id": "mptHVuOXldge",
    "vscode": {
     "languageId": "plaintext"
    }
   },
   "outputs": [],
   "source": [
    "pip install raga-testing-platform -U"
   ]
  },
  {
   "cell_type": "markdown",
   "metadata": {
    "id": "-MqvpwqSldgg"
   },
   "source": [
    "### Put your `ACCESS KEY & SECRET KEY`\n"
   ]
  },
  {
   "cell_type": "code",
   "execution_count": 2,
   "metadata": {
    "id": "nX8PY6OOldgg"
   },
   "outputs": [],
   "source": [
    "# Define the access key, secret key, and host\n",
    "ACCESS_KEY = \"Put access key\"\n",
    "SECRET_KEY = \"Put secret key\"\n",
    "HOST = \"https://backend.platform.raga.ai\""
   ]
  },
  {
   "cell_type": "markdown",
   "metadata": {
    "id": "SOPfGqW7ldgh"
   },
   "source": [
    "### Import All raga lib from raga module\n"
   ]
  },
  {
   "cell_type": "code",
   "execution_count": 3,
   "metadata": {
    "id": "GO827YR-ldgh"
   },
   "outputs": [
    {
     "name": "stdout",
     "output_type": "stream",
     "text": [
      "\r"
     ]
    }
   ],
   "source": [
    "from raga import *\n",
    "import datetime"
   ]
  },
  {
   "cell_type": "markdown",
   "metadata": {
    "id": "R0ficl0sDVuy"
   },
   "source": [
    "# **Image Recognition**\n"
   ]
  },
  {
   "cell_type": "markdown",
   "metadata": {
    "id": "Fpo6WmgOldgh"
   },
   "source": [
    "### 🪄 Set up a Run\n"
   ]
  },
  {
   "cell_type": "code",
   "execution_count": 4,
   "metadata": {
    "id": "ul7jkrCCldgi"
   },
   "outputs": [
    {
     "name": "stdout",
     "output_type": "stream",
     "text": [
      "\r"
     ]
    }
   ],
   "source": [
    "run_name = \"colab-check\""
   ]
  },
  {
   "cell_type": "markdown",
   "metadata": {
    "id": "Zxzm7eKbldgk"
   },
   "source": [
    "## Active Learning Test\n"
   ]
  },
  {
   "cell_type": "code",
   "execution_count": null,
   "metadata": {
    "id": "cXRzPXgxldgk"
   },
   "outputs": [],
   "source": [
    "dataset_name = \"philips_emb\"\n",
    "budget = 1150\n",
    "\n",
    "test_session = TestSession(\n",
    "    project_name=\"MRI Classification\",\n",
    "    run_name=run_name,\n",
    "    access_key=ACCESS_KEY,\n",
    "    secret_key=SECRET_KEY,\n",
    "    host=HOST\n",
    ")\n",
    "\n",
    "edge_case_detection = active_learning(test_session=test_session,\n",
    "                                      dataset_name = dataset_name,\n",
    "                                      test_name = \"active_learniing1\",\n",
    "                                      type = \"active_learning\",\n",
    "                                      output_type=\"curated_dataset\",\n",
    "                                      embed_col_name=\"ImageVectorsM1\",\n",
    "                                      budget=budget)\n",
    "\n",
    "test_session.add(edge_case_detection)\n",
    "\n",
    "test_session.run()"
   ]
  },
  {
   "cell_type": "markdown",
   "metadata": {
    "id": "RD7C7PUUldgl"
   },
   "source": [
    "# Class Imbalance Test\n"
   ]
  },
  {
   "cell_type": "code",
   "execution_count": null,
   "metadata": {
    "id": "WkcQ0sfkldgl"
   },
   "outputs": [],
   "source": [
    "dataset_name = \"philips_emb\"\n",
    "metric_threshold = 0.1\n",
    "rules = ClassImbalanceRules()\n",
    "\n",
    "rules.add(metric=\"js_divergence\", ideal_distribution=\"uniform\", metric_threshold=metric_threshold, label=\"ALL\")\n",
    "rules.add(metric=\"chi_squared_test\", ideal_distribution=\"uniform\", metric_threshold=metric_threshold, label=\"ALL\")\n",
    "\n",
    "\n",
    "test_session = TestSession(\n",
    "    project_name=\"MRI Classification\",\n",
    "    run_name=run_name,\n",
    "    access_key=ACCESS_KEY,\n",
    "    secret_key=SECRET_KEY,\n",
    "    host=HOST\n",
    ")\n",
    "\n",
    "distribution_test = class_imbalance_test(test_session=test_session,\n",
    "                                         dataset_name=dataset_name,\n",
    "                                         test_name=\"Class Imbalance Test\",\n",
    "                                         type=\"class_imbalance\",\n",
    "                                         output_type=\"image_classification\",\n",
    "                                         annotation_column_name=\"GroundTruth\",\n",
    "                                         rules=rules)\n",
    "\n",
    "test_session.add(distribution_test)\n",
    "test_session.run()"
   ]
  },
  {
   "cell_type": "markdown",
   "metadata": {
    "id": "4vNNh2vtuG86"
   },
   "source": [
    "# Near Duplicates Test\n"
   ]
  },
  {
   "cell_type": "code",
   "execution_count": null,
   "metadata": {
    "id": "hyZxAS6FuGvU"
   },
   "outputs": [],
   "source": [
    "dataset_name = \"philips_emb\"\n",
    "metric_threshold = 0.965\n",
    "\n",
    "test_session = TestSession(\n",
    "    project_name=\"MRI Classification\",\n",
    "    run_name=run_name,\n",
    "    access_key=ACCESS_KEY,\n",
    "    secret_key=SECRET_KEY,\n",
    "    host=HOST\n",
    ")\n",
    "\n",
    "rules = LQRules()\n",
    "rules.add(metric=\"similarity_score\", metric_threshold=metric_threshold)\n",
    "\n",
    "\n",
    "\n",
    "edge_case_detection = nearest_duplicate(test_session=test_session,\n",
    "                                          dataset_name = dataset_name,\n",
    "                                          test_name = \"Near-Duplicates-v4\",\n",
    "                                          type = \"near_duplicates\",\n",
    "                                          output_type=\"near_duplicates\",\n",
    "                                          embed_col_name=\"ImageVectorsM1\",\n",
    "                                          rules=rules)\n",
    "\n",
    "test_session.add(edge_case_detection)\n",
    "\n",
    "test_session.run()"
   ]
  },
  {
   "cell_type": "markdown",
   "metadata": {
    "id": "GVAn448WtLvn"
   },
   "source": [
    "# Outlier Detection Test\n"
   ]
  },
  {
   "cell_type": "code",
   "execution_count": null,
   "metadata": {},
   "outputs": [],
   "source": [
    "threshold=33\n",
    "dataset_name = \"philips_emb\"\n",
    "\n",
    "test_session = TestSession(\n",
    "    project_name=\"MRI Classification\",\n",
    "    run_name=run_name,\n",
    "    access_key=ACCESS_KEY,\n",
    "    secret_key=SECRET_KEY,\n",
    "    host=HOST\n",
    ")\n",
    "\n",
    "\n",
    "rules = DriftDetectionRules()\n",
    "rules.add(type=\"anomaly_detection\", dist_metric=\"Mahalanobis\", _class=\"ALL\", threshold=threshold)\n",
    "edge_case_detection = data_drift_detection(test_session=test_session,\n",
    "                                           test_name=\"Drift-detection-test-1\",\n",
    "                                           dataset_name=dataset_name,\n",
    "                                           embed_col_name = \"ImageVectorsM1\",\n",
    "#                                            output_type = \"image_classification\",\n",
    "                                           output_type = \"outlier_detection\",\n",
    "                                           rules = rules)\n",
    "test_session.add(edge_case_detection)\n",
    "\n",
    "test_session.run()"
   ]
  },
  {
   "cell_type": "markdown",
   "metadata": {
    "id": "MseyvRXtgR_H"
   },
   "source": [
    "# Data Leakage Test\n"
   ]
  },
  {
   "cell_type": "code",
   "execution_count": null,
   "metadata": {
    "id": "BkpSSFx0gRwd"
   },
   "outputs": [],
   "source": [
    "reference_dataset_name = \"philips_emb_good\"\n",
    "eval_dataset_name = \"philips_emb_bad\"\n",
    "\n",
    "metric_threshold = 0.95\n",
    "\n",
    "test_session = TestSession(\n",
    "    project_name=\"MRI Classification\",\n",
    "    run_name=run_name,\n",
    "    access_key=ACCESS_KEY,\n",
    "    secret_key=SECRET_KEY,\n",
    "    host=HOST\n",
    ")\n",
    "\n",
    "rules = LQRules()\n",
    "rules.add(metric = 'overlapping_samples', metric_threshold = metric_threshold)\n",
    "\n",
    "\n",
    "edge_case_detection = data_leakage_test(test_session=test_session,\n",
    "                                           test_name=\"dataleakage1\",\n",
    "                                           train_dataset_name=reference_dataset_name,\n",
    "                                           dataset_name=eval_dataset_name,\n",
    "                                           type = \"data_leakage\",\n",
    "                                           output_type=\"image_data\",\n",
    "                                           train_embed_col_name=\"ImageVectorsM1\",\n",
    "                                           embed_col_name = \"ImageVectorsM1\",\n",
    "                                           rules = rules)\n",
    "\n",
    "test_session.add(edge_case_detection)\n",
    "\n",
    "test_session.run()"
   ]
  },
  {
   "cell_type": "markdown",
   "metadata": {
    "id": "5IrrwMUhldgp"
   },
   "source": [
    "# Labeling Quality Test\n"
   ]
  },
  {
   "cell_type": "code",
   "execution_count": null,
   "metadata": {
    "id": "YxhJnOcJldgp"
   },
   "outputs": [],
   "source": [
    "dataset_name = 'philips_custom_emb'\n",
    "metric_threshold = 0.2\n",
    "\n",
    "\n",
    "test_session = TestSession(\n",
    "    project_name=\"MRI Classification\",\n",
    "    run_name=run_name,\n",
    "    access_key=ACCESS_KEY,\n",
    "    secret_key=SECRET_KEY,\n",
    "    host=HOST\n",
    ")\n",
    "\n",
    "\n",
    "rules = LQRules()\n",
    "rules.add(metric=\"mistake_score\", label=[\"ALL\"], metric_threshold=metric_threshold)\n",
    "edge_case_detection = labelling_quality_test(\n",
    "    test_session=test_session,\n",
    "    dataset_name=dataset_name,\n",
    "    test_name=\"IC- Labeling Quality Test\",\n",
    "    type=\"labelling_consistency\",\n",
    "    output_type=\"image_classification\",\n",
    "    mistake_score_col_name=\"MistakeScore\",\n",
    "    embedding_col_name=\"ImageVectorsM1\",\n",
    "    rules=rules,\n",
    ")\n",
    "\n",
    "test_session.add(edge_case_detection)\n",
    "test_session.run()"
   ]
  },
  {
   "cell_type": "markdown",
   "metadata": {},
   "source": [
    "# Scenario imbalance\n"
   ]
  },
  {
   "cell_type": "code",
   "execution_count": null,
   "metadata": {},
   "outputs": [],
   "source": [
    "dataset_name = \"philips_custom_emb\" \n",
    "\n",
    "rules = SBRules()\n",
    "rules.add(metric=\"js_divergence\", ideal_distribution=\"uniform\", metric_threshold=0.1)\n",
    "rules.add(metric=\"chi_squared_test\", ideal_distribution=\"uniform\", metric_threshold=0.1)\n",
    "\n",
    "\n",
    "# clustering is required only at cluster level\n",
    "cls_default = clustering(test_session=test_session,\n",
    "                         dataset_name=dataset_name,\n",
    "                         method=\"k-means\",\n",
    "                         embedding_col=\"ImageVectorsM1\",\n",
    "                         level=\"image\",\n",
    "                         args={\"numOfClusters\": 5}\n",
    "                         )\n",
    "\n",
    "\n",
    "edge_case_detection = scenario_imbalance(test_session=test_session,\n",
    "                                            dataset_name = dataset_name,\n",
    "                                            test_name = \"Scenario_Imbalance\",\n",
    "                                            type = \"scenario_imbalance\",\n",
    "                                            output_type=\"cluster\",\n",
    "                                            embedding= \"ImageVectorsM1\",\n",
    "                                            rules = rules,\n",
    "                                            clustering = cls_default\n",
    "                                             )\n",
    "test_session.add(edge_case_detection)\n",
    "\n",
    "test_session.run()"
   ]
  },
  {
   "cell_type": "code",
   "execution_count": null,
   "metadata": {},
   "outputs": [],
   "source": []
  }
 ],
 "metadata": {
  "colab": {
   "provenance": []
  },
  "kernelspec": {
   "display_name": "Python 3 (ipykernel)",
   "language": "python",
   "name": "python3"
  },
  "language_info": {
   "codemirror_mode": {
    "name": "ipython",
    "version": 3
   },
   "file_extension": ".py",
   "mimetype": "text/x-python",
   "name": "python",
   "nbconvert_exporter": "python",
   "pygments_lexer": "ipython3",
   "version": "3.11.5"
  }
 },
 "nbformat": 4,
 "nbformat_minor": 1
}
