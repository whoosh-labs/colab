{
  "cells": [
    {
      "cell_type": "markdown",
      "metadata": {
        "id": "8OBZz8kPiwI5"
      },
      "source": [
        "## 🪄 Install `raga-testing-platform` library\n"
      ]
    },
    {
      "cell_type": "code",
      "execution_count": null,
      "metadata": {
        "colab": {
          "base_uri": "https://localhost:8080/",
          "height": 1000
        },
        "id": "aXYCWFnxiq3U",
        "outputId": "7d70436b-68e5-4f69-da4e-4112f94f3951"
      },
      "outputs": [
        {
          "name": "stdout",
          "output_type": "stream",
          "text": [
            "Looking in indexes: https://test.pypi.org/simple/, https://pypi.org/simple\n",
            "Collecting raga-testing-platform==1.1.55\n",
            "  Downloading raga_testing_platform-1.1.55-py3-none-any.whl (214 kB)\n",
            "\u001b[2K     \u001b[90m━━━━━━━━━━━━━━━━━━━━━━━━━━━━━━━━━━━━━━━━\u001b[0m \u001b[32m214.0/214.0 kB\u001b[0m \u001b[31m3.6 MB/s\u001b[0m eta \u001b[36m0:00:00\u001b[0m\n",
            "\u001b[?25hCollecting pandas==2.0.2 (from raga-testing-platform==1.1.55)\n",
            "  Downloading pandas-2.0.2-cp310-cp310-manylinux_2_17_x86_64.manylinux2014_x86_64.whl (12.3 MB)\n",
            "\u001b[2K     \u001b[90m━━━━━━━━━━━━━━━━━━━━━━━━━━━━━━━━━━━━━━━━\u001b[0m \u001b[32m12.3/12.3 MB\u001b[0m \u001b[31m24.6 MB/s\u001b[0m eta \u001b[36m0:00:00\u001b[0m\n",
            "\u001b[?25hCollecting urllib3==1.26.7 (from raga-testing-platform==1.1.55)\n",
            "  Downloading urllib3-1.26.7-py2.py3-none-any.whl (138 kB)\n",
            "\u001b[2K     \u001b[90m━━━━━━━━━━━━━━━━━━━━━━━━━━━━━━━━━━━━━━━━\u001b[0m \u001b[32m138.8/138.8 kB\u001b[0m \u001b[31m12.2 MB/s\u001b[0m eta \u001b[36m0:00:00\u001b[0m\n",
            "\u001b[?25hRequirement already satisfied: requests==2.31.0 in /usr/local/lib/python3.10/dist-packages (from raga-testing-platform==1.1.55) (2.31.0)\n",
            "Collecting numpy==1.24.3 (from raga-testing-platform==1.1.55)\n",
            "  Downloading numpy-1.24.3-cp310-cp310-manylinux_2_17_x86_64.manylinux2014_x86_64.whl (17.3 MB)\n",
            "\u001b[2K     \u001b[90m━━━━━━━━━━━━━━━━━━━━━━━━━━━━━━━━━━━━━━━━\u001b[0m \u001b[32m17.3/17.3 MB\u001b[0m \u001b[31m21.9 MB/s\u001b[0m eta \u001b[36m0:00:00\u001b[0m\n",
            "\u001b[?25hCollecting halo==0.0.31 (from raga-testing-platform==1.1.55)\n",
            "  Downloading halo-0.0.31.tar.gz (11 kB)\n",
            "  Preparing metadata (setup.py) ... \u001b[?25l\u001b[?25hdone\n",
            "Collecting boto3==1.28.52 (from raga-testing-platform==1.1.55)\n",
            "  Downloading boto3-1.28.52-py3-none-any.whl (135 kB)\n",
            "\u001b[2K     \u001b[90m━━━━━━━━━━━━━━━━━━━━━━━━━━━━━━━━━━━━━━━━\u001b[0m \u001b[32m135.8/135.8 kB\u001b[0m \u001b[31m1.7 MB/s\u001b[0m eta \u001b[36m0:00:00\u001b[0m\n",
            "\u001b[?25hCollecting botocore<1.32.0,>=1.31.52 (from boto3==1.28.52->raga-testing-platform==1.1.55)\n",
            "  Downloading botocore-1.31.85-py3-none-any.whl (11.3 MB)\n",
            "\u001b[2K     \u001b[90m━━━━━━━━━━━━━━━━━━━━━━━━━━━━━━━━━━━━━━━━\u001b[0m \u001b[32m11.3/11.3 MB\u001b[0m \u001b[31m44.3 MB/s\u001b[0m eta \u001b[36m0:00:00\u001b[0m\n",
            "\u001b[?25hCollecting jmespath<2.0.0,>=0.7.1 (from boto3==1.28.52->raga-testing-platform==1.1.55)\n",
            "  Downloading jmespath-1.0.1-py3-none-any.whl (20 kB)\n",
            "Collecting s3transfer<0.7.0,>=0.6.0 (from boto3==1.28.52->raga-testing-platform==1.1.55)\n",
            "  Downloading s3transfer-0.6.2-py3-none-any.whl (79 kB)\n",
            "\u001b[2K     \u001b[90m━━━━━━━━━━━━━━━━━━━━━━━━━━━━━━━━━━━━━━━━\u001b[0m \u001b[32m79.8/79.8 kB\u001b[0m \u001b[31m8.3 MB/s\u001b[0m eta \u001b[36m0:00:00\u001b[0m\n",
            "\u001b[?25hCollecting log_symbols>=0.0.14 (from halo==0.0.31->raga-testing-platform==1.1.55)\n",
            "  Downloading log_symbols-0.0.14-py3-none-any.whl (3.1 kB)\n",
            "Collecting spinners>=0.0.24 (from halo==0.0.31->raga-testing-platform==1.1.55)\n",
            "  Downloading spinners-0.0.24-py3-none-any.whl (5.5 kB)\n",
            "Requirement already satisfied: termcolor>=1.1.0 in /usr/local/lib/python3.10/dist-packages (from halo==0.0.31->raga-testing-platform==1.1.55) (2.4.0)\n",
            "Collecting colorama>=0.3.9 (from halo==0.0.31->raga-testing-platform==1.1.55)\n",
            "  Downloading colorama-0.4.6-py2.py3-none-any.whl (25 kB)\n",
            "Requirement already satisfied: six>=1.12.0 in /usr/local/lib/python3.10/dist-packages (from halo==0.0.31->raga-testing-platform==1.1.55) (1.16.0)\n",
            "Requirement already satisfied: python-dateutil>=2.8.2 in /usr/local/lib/python3.10/dist-packages (from pandas==2.0.2->raga-testing-platform==1.1.55) (2.8.2)\n",
            "Requirement already satisfied: pytz>=2020.1 in /usr/local/lib/python3.10/dist-packages (from pandas==2.0.2->raga-testing-platform==1.1.55) (2023.4)\n",
            "Requirement already satisfied: tzdata>=2022.1 in /usr/local/lib/python3.10/dist-packages (from pandas==2.0.2->raga-testing-platform==1.1.55) (2024.1)\n",
            "Requirement already satisfied: charset-normalizer<4,>=2 in /usr/local/lib/python3.10/dist-packages (from requests==2.31.0->raga-testing-platform==1.1.55) (3.3.2)\n",
            "Requirement already satisfied: idna<4,>=2.5 in /usr/local/lib/python3.10/dist-packages (from requests==2.31.0->raga-testing-platform==1.1.55) (3.7)\n",
            "Requirement already satisfied: certifi>=2017.4.17 in /usr/local/lib/python3.10/dist-packages (from requests==2.31.0->raga-testing-platform==1.1.55) (2024.2.2)\n",
            "Building wheels for collected packages: halo\n",
            "  Building wheel for halo (setup.py) ... \u001b[?25l\u001b[?25hdone\n",
            "  Created wheel for halo: filename=halo-0.0.31-py3-none-any.whl size=11232 sha256=c1171a108a5bb161a19a45d9f271f27698c11d9291cca82f91078d38295cb32a\n",
            "  Stored in directory: /root/.cache/pip/wheels/5a/d9/8a/b4f14c44aba7c164d4379eca6f1dde59360050406b1edaec24\n",
            "Successfully built halo\n",
            "Installing collected packages: spinners, urllib3, numpy, jmespath, colorama, pandas, log_symbols, botocore, s3transfer, halo, boto3, raga-testing-platform\n",
            "  Attempting uninstall: urllib3\n",
            "    Found existing installation: urllib3 2.0.7\n",
            "    Uninstalling urllib3-2.0.7:\n",
            "      Successfully uninstalled urllib3-2.0.7\n",
            "  Attempting uninstall: numpy\n",
            "    Found existing installation: numpy 1.25.2\n",
            "    Uninstalling numpy-1.25.2:\n",
            "      Successfully uninstalled numpy-1.25.2\n",
            "  Attempting uninstall: pandas\n",
            "    Found existing installation: pandas 2.0.3\n",
            "    Uninstalling pandas-2.0.3:\n",
            "      Successfully uninstalled pandas-2.0.3\n",
            "\u001b[31mERROR: pip's dependency resolver does not currently take into account all the packages that are installed. This behaviour is the source of the following dependency conflicts.\n",
            "google-colab 1.0.0 requires pandas==2.0.3, but you have pandas 2.0.2 which is incompatible.\n",
            "pandas-stubs 2.0.3.230814 requires numpy>=1.25.0; python_version >= \"3.9\", but you have numpy 1.24.3 which is incompatible.\u001b[0m\u001b[31m\n",
            "\u001b[0mSuccessfully installed boto3-1.28.52 botocore-1.31.85 colorama-0.4.6 halo-0.0.31 jmespath-1.0.1 log_symbols-0.0.14 numpy-1.24.3 pandas-2.0.2 raga-testing-platform-1.1.55 s3transfer-0.6.2 spinners-0.0.24 urllib3-1.26.7\n"
          ]
        },
        {
          "data": {
            "application/vnd.colab-display-data+json": {
              "id": "e126ed4791154e4087addaeb6668c174",
              "pip_warning": {
                "packages": [
                  "numpy"
                ]
              }
            }
          },
          "metadata": {},
          "output_type": "display_data"
        }
      ],
      "source": [
        "pip install --index-url https://test.pypi.org/simple/ --extra-index-url https://pypi.org/simple raga-testing-platform==1.1.55"
      ]
    },
    {
      "cell_type": "markdown",
      "metadata": {
        "id": "RAVi1mG1i7sQ"
      },
      "source": [
        "### Put your `ACCESS KEY & SECRET KEY`\n",
        "\n",
        "---\n"
      ]
    },
    {
      "cell_type": "code",
      "execution_count": null,
      "metadata": {
        "id": "HhMMwVG3i-2A"
      },
      "outputs": [],
      "source": [
        "# Define the access key, secret key, and host\n",
        "ACCESS_KEY = \"access_key\"\n",
        "SECRET_KEY = \"secret_key\"\n",
        "HOST = \"https://backend.platform.raga.ai\""
      ]
    },
    {
      "cell_type": "markdown",
      "metadata": {
        "id": "qolBny1RjHfb"
      },
      "source": [
        "### Import All raga lib from raga module\n"
      ]
    },
    {
      "cell_type": "code",
      "execution_count": null,
      "metadata": {
        "id": "xLEsDI3EjMv5"
      },
      "outputs": [],
      "source": [
        "from raga import *\n",
        "import datetime"
      ]
    },
    {
      "cell_type": "markdown",
      "metadata": {
        "id": "QtN7S-W0jewP"
      },
      "source": [
        "## #`Object Detection Dataset v2 (Dummy patients with KneeCoil)`\n"
      ]
    },
    {
      "cell_type": "code",
      "execution_count": null,
      "metadata": {
        "id": "XeybbPswrlQM"
      },
      "outputs": [],
      "source": [
        "run_name = f\"tt\""
      ]
    },
    {
      "cell_type": "markdown",
      "metadata": {
        "id": "1vn_LlynkR5k"
      },
      "source": [
        "### Drift Detection Test\n",
        "\n",
        "---\n"
      ]
    },
    {
      "cell_type": "code",
      "execution_count": null,
      "metadata": {
        "colab": {
          "base_uri": "https://localhost:8080/"
        },
        "id": "cgFqfMumjebY",
        "outputId": "b4d5b65b-31e7-41b6-d1b0-c7b278d08634"
      },
      "outputs": [
        {
          "name": "stdout",
          "output_type": "stream",
          "text": [
            "✔ Access token generated successfully\n",
            "✔ Project fetched successfully\n",
            "✔ Dataset has loaded successfully\n",
            "✔ Dataset has loaded successfully\n",
            "✔ Experiment created successfully\n",
            "✔ Test created successfully\n",
            "✔ Succeed!\n"
          ]
        }
      ],
      "source": [
        "test_session = TestSession(\n",
        "    project_name=\"KneeCoil Detection\",\n",
        "    run_name=run_name,\n",
        "    access_key=ACCESS_KEY,\n",
        "    secret_key=SECRET_KEY,\n",
        "    host=HOST\n",
        ")\n",
        "\n",
        "train_dataset_name = \"philip_train_dataset_v1\"\n",
        "test_dataset_name = \"kneecoil_april\"\n",
        "\n",
        "rules = DriftDetectionRules()\n",
        "rules.add(type=\"single_class_anomaly_detection\", dist_metric=\"Mahalanobis\", _class=\"ALL\", threshold= 44)\n",
        "\n",
        "edge_case_detection = data_drift_detection(test_session=test_session,\n",
        "                                           test_name=f\"philip_drift_v1\",\n",
        "                                           train_dataset_name=train_dataset_name,\n",
        "                                           field_dataset_name=test_dataset_name,\n",
        "                                           train_embed_col_name=\"ImageEmbedding\",\n",
        "                                           field_embed_col_name = \"ImageVectorsM1\",\n",
        "                                           level = \"image\",\n",
        "                                           rules = rules)\n",
        "\n",
        "\n",
        "test_session.add(edge_case_detection)\n",
        "\n",
        "test_session.run()"
      ]
    },
    {
      "cell_type": "markdown",
      "metadata": {
        "id": "BzvgXNqXk1rM"
      },
      "source": [
        "## ###Near Duplicates Test\n"
      ]
    },
    {
      "cell_type": "code",
      "execution_count": null,
      "metadata": {
        "colab": {
          "base_uri": "https://localhost:8080/"
        },
        "id": "TvpTMFbAk08A",
        "outputId": "676e51a8-a3ca-4819-c4c8-c95e853fd321"
      },
      "outputs": [
        {
          "name": "stdout",
          "output_type": "stream",
          "text": [
            "✔ Access token generated successfully\n",
            "✔ Project fetched successfully\n",
            "✔ Dataset has loaded successfully\n",
            "✔ Experiment created successfully\n",
            "✔ Test created successfully\n",
            "✔ Succeed!\n"
          ]
        }
      ],
      "source": [
        "test_session = TestSession(\n",
        "    project_name=\"KneeCoil Detection\",\n",
        "    run_name=run_name,\n",
        "    access_key=ACCESS_KEY,\n",
        "    secret_key=SECRET_KEY,\n",
        "    host=HOST\n",
        ")\n",
        "rules = LQRules()\n",
        "rules.add(metric=\"similarity_score\", metric_threshold=0.99)\n",
        "\n",
        "train_dataset_name = \"philip_train_dataset_v1\"\n",
        "# test_dataset_name = \"philip_val_dataset_v1\"\n",
        "\n",
        "edge_case_detection = nearest_duplicate(test_session=test_session,\n",
        "                                          dataset_name = train_dataset_name,\n",
        "                                          test_name = \"Near-Duplicates-v1\",\n",
        "                                          type = \"near_duplicates\",\n",
        "                                          output_type=\"near_duplicates\",\n",
        "                                          embed_col_name=\"ImageEmbedding\",\n",
        "                                          rules=rules)\n",
        "\n",
        "test_session.add(edge_case_detection)\n",
        "\n",
        "test_session.run()"
      ]
    },
    {
      "cell_type": "markdown",
      "metadata": {
        "id": "zA9d91t-k9dp"
      },
      "source": [
        "## ###Outlier Detection Test\n"
      ]
    },
    {
      "cell_type": "code",
      "execution_count": null,
      "metadata": {
        "colab": {
          "base_uri": "https://localhost:8080/"
        },
        "id": "_pqeemYMk_5j",
        "outputId": "773bf136-5633-431e-d3f1-e599c68b2626"
      },
      "outputs": [
        {
          "name": "stdout",
          "output_type": "stream",
          "text": [
            "✔ Access token generated successfully\n",
            "✔ Project fetched successfully\n",
            "✔ Dataset has loaded successfully\n",
            "✔ Dataset has loaded successfully\n",
            "✔ Experiment created successfully\n",
            "✔ Test created successfully\n",
            "✔ Succeed!\n"
          ]
        }
      ],
      "source": [
        "test_session = TestSession(\n",
        "    project_name=\"KneeCoil Detection\",\n",
        "    run_name=run_name,\n",
        "    access_key=ACCESS_KEY,\n",
        "    secret_key=SECRET_KEY,\n",
        "    host=HOST\n",
        ")\n",
        "train_dataset_name = \"philip_train_dataset_v1\"\n",
        "# test_dataset_name = \"philip_val_dataset_v1\"\n",
        "\n",
        "rules = DriftDetectionRules()\n",
        "rules.add(type=\"anomaly_detection\", dist_metric=\"Mahalanobis\", _class=\"ALL\", threshold=18.57)\n",
        "\n",
        "edge_case_detection = data_drift_detection(test_session=test_session,\n",
        "                                           test_name=\"Outlier_detection\",\n",
        "                                           dataset_name= train_dataset_name,\n",
        "                                           embed_col_name=\"ImageEmbedding\",\n",
        "                                           output_type = \"outlier_detection\",\n",
        "                                           rules = rules)\n",
        "\n",
        "\n",
        "test_session.add(edge_case_detection)\n",
        "\n",
        "test_session.run()"
      ]
    },
    {
      "cell_type": "markdown",
      "metadata": {
        "id": "p8DK-B5ElDBA"
      },
      "source": [
        "## ###Failure Mode Analysis Test - Clustering\n"
      ]
    },
    {
      "cell_type": "code",
      "execution_count": null,
      "metadata": {
        "id": "elFyMdWBltn6"
      },
      "outputs": [],
      "source": [
        "test_session = TestSession(\n",
        "    project_name=\"KneeCoil Detection\",\n",
        "    run_name=run_name,\n",
        "    access_key=ACCESS_KEY,\n",
        "    secret_key=SECRET_KEY,\n",
        "    host=HOST\n",
        ")\n",
        "dataset_name = \"kneecoil_april\"\n",
        "\n",
        "rules = FMARules()\n",
        "rules.add(metric=\"Precision\", conf_threshold=0.3, metric_threshold=0.7, iou_threshold=0.5, label=\"ALL\")\n",
        "rules.add(metric=\"F1Score\", conf_threshold=0.3, metric_threshold=0.7, iou_threshold=0.5, label=\"ALL\")\n",
        "rules.add(metric=\"Recall\", conf_threshold=0.3, metric_threshold=0.7, iou_threshold=0.5, label=\"ALL\")\n",
        "\n",
        "cls_default = clustering(test_session=test_session, dataset_name = dataset_name, method=\"k-means\", embedding_col=\"ImageVectorsM1\", level=\"image\", args= {\"numOfClusters\": 8}, force=True)\n",
        "\n",
        "edge_case_detection = failure_mode_analysis(test_session=test_session,\n",
        "                                            dataset_name = dataset_name,\n",
        "                                            test_name = f\"FMA_Clustering\",\n",
        "                                            model = \"ModelA\",\n",
        "                                            gt = \"GT\",\n",
        "                                            rules = rules,\n",
        "                                            output_type=\"object_detection\",\n",
        "                                            type=\"embedding\",\n",
        "                                            clustering=cls_default\n",
        "                                            )\n",
        "\n",
        "test_session.add(edge_case_detection)\n",
        "\n",
        "test_session.run()"
      ]
    },
    {
      "cell_type": "markdown",
      "metadata": {
        "id": "dC_HfyAhlvNG"
      },
      "source": [
        "###Failure Mode Analysis Test - Metadata\n",
        "\n",
        "---\n"
      ]
    },
    {
      "cell_type": "code",
      "execution_count": null,
      "metadata": {
        "id": "p8UKz2hil4Hq"
      },
      "outputs": [],
      "source": [
        "test_session = TestSession(\n",
        "    project_name=\"KneeCoil Detection\",\n",
        "    run_name=run_name,\n",
        "    access_key=ACCESS_KEY,\n",
        "    secret_key=SECRET_KEY,\n",
        "    host=HOST\n",
        ")\n",
        "\n",
        "dataset_name = \"kneecoil_april\"\n",
        "\n",
        "rules = FMARules()\n",
        "rules.add(metric=\"Precision\", conf_threshold=0.4, metric_threshold=0.6, iou_threshold=0.4, label=\"ALL\")\n",
        "\n",
        "\n",
        "edge_case_detection = failure_mode_analysis(test_session=test_session,\n",
        "                                            dataset_name = dataset_name,\n",
        "                                            test_name = \"fma_meta1\",\n",
        "                                            model = \"ModelA\",\n",
        "                                            gt = \"GT\",\n",
        "                                            rules = rules,\n",
        "                                            output_type=\"object_detection\",\n",
        "                                            type=\"metadata\",\n",
        "                                            aggregation_level=['brightness']\n",
        "                                            )\n",
        "\n",
        "test_session.add(edge_case_detection)\n",
        "\n",
        "test_session.run()"
      ]
    },
    {
      "cell_type": "markdown",
      "metadata": {
        "id": "uJrnYh-1l5VP"
      },
      "source": [
        "## ###Scenario Imbalance Test\n"
      ]
    },
    {
      "cell_type": "code",
      "execution_count": null,
      "metadata": {
        "id": "9H2876wTl7H5"
      },
      "outputs": [],
      "source": [
        "test_session = TestSession(\n",
        "    project_name=\"KneeCoil Detection\",\n",
        "    run_name=run_name,\n",
        "    access_key=ACCESS_KEY,\n",
        "    secret_key=SECRET_KEY,\n",
        "    host=HOST\n",
        ")\n",
        "augmented_dataset_name = \"kneecoil_april\"\n",
        "# test_dataset_name = \"philip_val_dataset_v1\"\n",
        "\n",
        "rules = SBRules()\n",
        "rules.add(metric=\"js_divergence\", ideal_distribution=\"uniform\", metric_threshold=0.1)\n",
        "rules.add(metric=\"chi_squared_test\", ideal_distribution=\"uniform\", metric_threshold=0.1)\n",
        "\n",
        "edge_case_detection = scenario_imbalance(test_session=test_session,\n",
        "                                            dataset_name = augmented_dataset_name,\n",
        "                                            test_name = \"Scenario_Imbalance4\",\n",
        "                                            type = \"scenario_imbalance\",\n",
        "                                            output_type=\"metadata\",\n",
        "                                            rules = rules,\n",
        "                                            aggregationLevels=[\"brightness\"]\n",
        "                                             )\n",
        "\n",
        "test_session.add(edge_case_detection)\n",
        "\n",
        "test_session.run()"
      ]
    },
    {
      "cell_type": "markdown",
      "metadata": {
        "id": "qOGLjfDZl_hU"
      },
      "source": [
        "## ###Labeling Quality Test\n"
      ]
    },
    {
      "cell_type": "code",
      "execution_count": null,
      "metadata": {
        "id": "Uc0kwEHVmFC0"
      },
      "outputs": [],
      "source": [
        "test_session = TestSession(\n",
        "    project_name=\"KneeCoil Detection\",\n",
        "    run_name=run_name,\n",
        "    access_key=ACCESS_KEY,\n",
        "    secret_key=SECRET_KEY,\n",
        "    host=HOST\n",
        ")\n",
        "dataset_name = \"philips_field_data_mistakes\"\n",
        "\n",
        "rules = LQRules()\n",
        "rules.add(metric=\"mistake_score\", label=[\"ALL\"], metric_threshold= 0.266)\n",
        "\n",
        "\n",
        "edge_case_detection = labelling_quality_test(test_session=test_session,\n",
        "                                            dataset_name = dataset_name,\n",
        "                                            test_name = \"Labeling Quality Test\",\n",
        "                                            type = \"labelling_consistency\",\n",
        "                                            output_type=\"object_detection\",\n",
        "                                            mistake_score_col_name = \"MistakeScore\",\n",
        "                                            gt=\"GT\",\n",
        "                                            # model=\"GT\",\n",
        "                                            rules = rules)\n",
        "test_session.add(edge_case_detection)\n",
        "\n",
        "test_session.run()"
      ]
    },
    {
      "cell_type": "markdown",
      "metadata": {
        "id": "BS4I62r6nald"
      },
      "source": [
        "## #`Object Detection Dataset v1 (Various backgrounds with KneeCoil)`\n"
      ]
    },
    {
      "cell_type": "code",
      "execution_count": null,
      "metadata": {
        "id": "gCShr3Mrrs9m"
      },
      "outputs": [],
      "source": [
        "run_name2 = f\"tt1\""
      ]
    },
    {
      "cell_type": "markdown",
      "metadata": {
        "id": "BTrldJuZnrBf"
      },
      "source": [
        "### Data Drift Test\n",
        "\n",
        "---\n"
      ]
    },
    {
      "cell_type": "code",
      "execution_count": null,
      "metadata": {
        "id": "In3QGmsfngrK"
      },
      "outputs": [],
      "source": [
        "test_session = TestSession(\n",
        "    project_name=\"KneeCoil Detection\",\n",
        "    run_name=run_name2,\n",
        "    access_key=ACCESS_KEY,\n",
        "    secret_key=SECRET_KEY,\n",
        "    host=HOST\n",
        ")\n",
        "\n",
        "train_dataset_name = \"philip_train_dataset_v1\"\n",
        "test_dataset_name = \"philip_val_dataset_v1\"\n",
        "\n",
        "rules = DriftDetectionRules()\n",
        "rules.add(type=\"single_class_anomaly_detection\", dist_metric=\"Mahalanobis\", _class=\"ALL\", threshold= 42)\n",
        "\n",
        "edge_case_detection = data_drift_detection(test_session=test_session,\n",
        "                                           test_name=f\"philip_drift_v1\",\n",
        "                                           train_dataset_name=train_dataset_name,\n",
        "                                           field_dataset_name=test_dataset_name,\n",
        "                                           train_embed_col_name=\"ImageEmbedding\",\n",
        "                                           field_embed_col_name = \"ImageEmbedding\",\n",
        "                                           level = \"image\",\n",
        "                                           rules = rules)\n",
        "\n",
        "\n",
        "test_session.add(edge_case_detection)\n",
        "\n",
        "test_session.run()\n"
      ]
    },
    {
      "cell_type": "markdown",
      "metadata": {
        "id": "6DApC0Z2o8Qp"
      },
      "source": [
        "## ###Active Learning Test\n"
      ]
    },
    {
      "cell_type": "code",
      "execution_count": null,
      "metadata": {
        "id": "Qk5f4Bzdo522"
      },
      "outputs": [],
      "source": [
        "budget = 2000\n",
        "\n",
        "test_session = TestSession(\n",
        "    project_name=\"KneeCoil Detection\",\n",
        "    run_name=run_name2,\n",
        "    access_key=ACCESS_KEY,\n",
        "    secret_key=SECRET_KEY,\n",
        "    host=HOST\n",
        ")\n",
        "\n",
        "train_dataset_name = \"philip_train_dataset_v1\"\n",
        "# test_dataset_name = \"philip_val_dataset_v1\"\n",
        "\n",
        "edge_case_detection = active_learning(test_session=test_session,\n",
        "                                      dataset_name = train_dataset_name,\n",
        "                                      test_name = \"active_learniing_train_v1\",\n",
        "                                      type = \"active_learning\",\n",
        "                                      output_type=\"curated_dataset\",\n",
        "                                      embed_col_name=\"ImageEmbedding\",\n",
        "                                      budget=budget)\n",
        "\n",
        "test_session.add(edge_case_detection)\n",
        "\n",
        "test_session.run()"
      ]
    },
    {
      "cell_type": "markdown",
      "metadata": {
        "id": "3_6VI8QZpN54"
      },
      "source": [
        "## ###Near Duplicates Test\n"
      ]
    },
    {
      "cell_type": "code",
      "execution_count": null,
      "metadata": {
        "id": "JEzLOg24pNlF"
      },
      "outputs": [],
      "source": [
        "test_session = TestSession(\n",
        "    project_name=\"KneeCoil Detection\",\n",
        "    run_name=run_name2,\n",
        "    access_key=ACCESS_KEY,\n",
        "    secret_key=SECRET_KEY,\n",
        "    host=HOST\n",
        ")\n",
        "rules = LQRules()\n",
        "rules.add(metric=\"similarity_score\", metric_threshold=0.94)\n",
        "\n",
        "train_dataset_name = \"philip_train_dataset_v1\"\n",
        "# test_dataset_name = \"philip_val_dataset_v1\"\n",
        "\n",
        "edge_case_detection = nearest_duplicate(test_session=test_session,\n",
        "                                          dataset_name = train_dataset_name,\n",
        "                                          test_name = \"Near-Duplicates-v1\",\n",
        "                                          type = \"near_duplicates\",\n",
        "                                          output_type=\"near_duplicates\",\n",
        "                                          embed_col_name=\"ImageEmbedding\",\n",
        "                                          rules=rules)\n",
        "\n",
        "test_session.add(edge_case_detection)\n",
        "\n",
        "test_session.run()"
      ]
    },
    {
      "cell_type": "markdown",
      "metadata": {
        "id": "7CQYo76Opt6b"
      },
      "source": [
        "###Data Leakage Test\n"
      ]
    },
    {
      "cell_type": "code",
      "execution_count": null,
      "metadata": {
        "id": "7f0OTOAhpVNn"
      },
      "outputs": [],
      "source": [
        "test_session = TestSession(\n",
        "    project_name=\"KneeCoil Detection\",\n",
        "    run_name=run_name2,\n",
        "    access_key=ACCESS_KEY,\n",
        "    secret_key=SECRET_KEY,\n",
        "    host=HOST\n",
        ")\n",
        "\n",
        "train_dataset_name = \"philip_train_dataset_v1\"\n",
        "test_dataset_name = \"philip_val_dataset_v1\"\n",
        "\n",
        "rules = LQRules()\n",
        "rules.add(metric = 'overlapping_samples', metric_threshold = 0.95)\n",
        "\n",
        "\n",
        "edge_case_detection = data_leakage_test(test_session=test_session,\n",
        "                                           test_name=\"dataleakage_philips_v1\",\n",
        "                                           train_dataset_name=train_dataset_name,\n",
        "                                           dataset_name=test_dataset_name,\n",
        "                                           type = \"data_leakage\",\n",
        "                                           output_type=\"image_data\",\n",
        "                                           train_embed_col_name=\"ImageEmbedding\",\n",
        "                                           embed_col_name = \"ImageEmbedding\",\n",
        "                                           rules = rules)\n",
        "\n",
        "test_session.add(edge_case_detection)\n",
        "\n",
        "test_session.run()"
      ]
    },
    {
      "cell_type": "markdown",
      "metadata": {
        "id": "SoOOglj3p2ex"
      },
      "source": [
        "## ###Outlier Detection\n"
      ]
    },
    {
      "cell_type": "code",
      "execution_count": null,
      "metadata": {
        "id": "sFmeZ_8Bp6rL"
      },
      "outputs": [],
      "source": [
        "test_session = TestSession(\n",
        "    project_name=\"KneeCoil Detection\",\n",
        "    run_name=run_name2,\n",
        "    access_key=ACCESS_KEY,\n",
        "    secret_key=SECRET_KEY,\n",
        "    host=HOST\n",
        ")\n",
        "train_dataset_name = \"philip_train_dataset_v1\"\n",
        "# test_dataset_name = \"philip_val_dataset_v1\"\n",
        "\n",
        "rules = DriftDetectionRules()\n",
        "rules.add(type=\"anomaly_detection\", dist_metric=\"Mahalanobis\", _class=\"ALL\", threshold=40)\n",
        "\n",
        "edge_case_detection = data_drift_detection(test_session=test_session,\n",
        "                                           test_name=\"Outlier_detection\",\n",
        "                                           dataset_name= train_dataset_name,\n",
        "                                           embed_col_name=\"ImageEmbedding\",\n",
        "                                           output_type = \"outlier_detection\",\n",
        "                                           rules = rules)\n",
        "\n",
        "\n",
        "test_session.add(edge_case_detection)\n",
        "\n",
        "test_session.run()"
      ]
    },
    {
      "cell_type": "markdown",
      "metadata": {
        "id": "tI6LQCSYqBhY"
      },
      "source": [
        "## ###Failure Mode Analysis - Clustering\n"
      ]
    },
    {
      "cell_type": "code",
      "execution_count": null,
      "metadata": {
        "id": "9klfWGmQqBR-"
      },
      "outputs": [],
      "source": [
        "test_session = TestSession(\n",
        "    project_name=\"KneeCoil Detection\",\n",
        "    run_name=run_name2,\n",
        "    access_key=ACCESS_KEY,\n",
        "    secret_key=SECRET_KEY,\n",
        "    host=HOST\n",
        ")\n",
        "augmented_dataset_name = \"train_augmentation\"\n",
        "# test_dataset_name = \"philip_val_dataset_v1\"\n",
        "\n",
        "rules = FMARules()\n",
        "rules.add(metric=\"Precision\", conf_threshold=0.4, metric_threshold=0.7, iou_threshold=0.4, label=\"ALL\")\n",
        "rules.add(metric=\"F1Score\", conf_threshold=0.4, metric_threshold=0.7, iou_threshold=0.4, label=\"ALL\")\n",
        "rules.add(metric=\"Recall\", conf_threshold=0.4, metric_threshold=0.7, iou_threshold=0.4, label=\"ALL\")\n",
        "\n",
        "cls_default = clustering(test_session=test_session, dataset_name = dataset_name, method=\"k-means\", embedding_col=\"ImageVectorsM1\", level=\"image\", args= {\"numOfClusters\": 8}, force=True)\n",
        "\n",
        "edge_case_detection = failure_mode_analysis(test_session=test_session,\n",
        "                                            dataset_name = augmented_dataset_name,\n",
        "                                            test_name = f\"FMA_Clustering\",\n",
        "                                            model = \"ModelA\",\n",
        "                                            gt = \"GT\",\n",
        "                                            rules = rules,\n",
        "                                            output_type=\"object_detection\",\n",
        "                                            type=\"embedding\",\n",
        "                                            clustering=cls_default\n",
        "                                            )\n",
        "\n",
        "test_session.add(edge_case_detection)\n",
        "\n",
        "test_session.run()"
      ]
    },
    {
      "cell_type": "markdown",
      "metadata": {
        "id": "Nb5n_QMaqOqW"
      },
      "source": [
        "## ###Failure Mode Analysis - Metadata\n"
      ]
    },
    {
      "cell_type": "code",
      "execution_count": null,
      "metadata": {
        "id": "HudI1v0JqUxd"
      },
      "outputs": [],
      "source": [
        "test_session = TestSession(\n",
        "    project_name=\"KneeCoil Detection\",\n",
        "    run_name=run_name2,\n",
        "    access_key=ACCESS_KEY,\n",
        "    secret_key=SECRET_KEY,\n",
        "    host=HOST\n",
        ")\n",
        "\n",
        "augmented_dataset_name = \"train_augmentation\"\n",
        "\n",
        "rules = FMARules()\n",
        "rules.add(metric=\"Precision\", conf_threshold=0.4, metric_threshold=0.5, iou_threshold=0.4, label=\"ALL\")\n",
        "\n",
        "\n",
        "edge_case_detection = failure_mode_analysis(test_session=test_session,\n",
        "                                            dataset_name = augmented_dataset_name,\n",
        "                                            test_name = \"fma_meta1\",\n",
        "                                            model = \"ModelA\",\n",
        "                                            gt = \"GT\",\n",
        "                                            rules = rules,\n",
        "                                            output_type=\"object_detection\",\n",
        "                                            type=\"metadata\",\n",
        "                                            aggregation_level=['Augmentation']\n",
        "                                            )\n",
        "\n",
        "test_session.add(edge_case_detection)\n",
        "\n",
        "test_session.run()"
      ]
    },
    {
      "cell_type": "markdown",
      "metadata": {
        "id": "OL2tkAVuqjTA"
      },
      "source": [
        "## ###Scenario Imbalance\n"
      ]
    },
    {
      "cell_type": "code",
      "execution_count": null,
      "metadata": {
        "id": "m1ua__X6qY_i"
      },
      "outputs": [],
      "source": [
        "test_session = TestSession(\n",
        "    project_name=\"KneeCoil Detection\",\n",
        "    run_name=run_name2,\n",
        "    access_key=ACCESS_KEY,\n",
        "    secret_key=SECRET_KEY,\n",
        "    host=HOST\n",
        ")\n",
        "\n",
        "augmented_dataset_name = \"train_augmentation\"\n",
        "\n",
        "rules = SBRules()\n",
        "rules.add(metric=\"js_divergence\", ideal_distribution=\"uniform\", metric_threshold=0.1)\n",
        "rules.add(metric=\"chi_squared_test\", ideal_distribution=\"uniform\", metric_threshold=0.1)\n",
        "\n",
        "edge_case_detection = scenario_imbalance(test_session=test_session,\n",
        "                                            dataset_name = augmented_dataset_name,\n",
        "                                            test_name = \"Scenario_Imbalance4\",\n",
        "                                            type = \"scenario_imbalance\",\n",
        "                                            output_type=\"metadata\",\n",
        "                                            rules = rules,\n",
        "                                            aggregationLevels=[\"augmentation\"]\n",
        "                                             )\n",
        "\n",
        "test_session.add(edge_case_detection)\n",
        "\n",
        "test_session.run()"
      ]
    },
    {
      "cell_type": "markdown",
      "metadata": {
        "id": "sCFbk9Jzqsj-"
      },
      "source": [
        "## ###Labeling Quality Test\n"
      ]
    },
    {
      "cell_type": "code",
      "execution_count": null,
      "metadata": {
        "id": "qSN3oi79qudh"
      },
      "outputs": [],
      "source": [
        "test_session = TestSession(\n",
        "    project_name=\"KneeCoil Detection\",\n",
        "    run_name=run_name2,\n",
        "    access_key=ACCESS_KEY,\n",
        "    secret_key=SECRET_KEY,\n",
        "    host=HOST\n",
        ")\n",
        "dataset_name = \"train13\"\n",
        "\n",
        "rules = LQRules()\n",
        "rules.add(metric=\"mistake_score\", label=[\"ALL\"], metric_threshold=0.93)\n",
        "\n",
        "\n",
        "edge_case_detection = labelling_quality_test(test_session=test_session,\n",
        "                                            dataset_name = dataset_name,\n",
        "                                            test_name = \"Labeling Quality Test\",\n",
        "                                            type = \"labelling_consistency\",\n",
        "                                            output_type=\"object_detection\",\n",
        "                                            mistake_score_col_name = \"MistakeScore\",\n",
        "                                            gt=\"GT\",\n",
        "                                            # model=\"GT\",\n",
        "                                            rules = rules)\n",
        "test_session.add(edge_case_detection)\n",
        "\n",
        "test_session.run()"
      ]
    }
  ],
  "metadata": {
    "colab": {
      "provenance": []
    },
    "kernelspec": {
      "display_name": "Python 3",
      "name": "python3"
    },
    "language_info": {
      "name": "python"
    }
  },
  "nbformat": 4,
  "nbformat_minor": 0
}
