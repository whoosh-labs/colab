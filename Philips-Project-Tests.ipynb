{
 "cells": [
  {
   "cell_type": "markdown",
   "metadata": {},
   "source": [
    "## 🪄 Install `raga-testing-platform` library\n"
   ]
  },
  {
   "cell_type": "code",
   "execution_count": null,
   "metadata": {
    "vscode": {
     "languageId": "plaintext"
    }
   },
   "outputs": [],
   "source": [
    "pip install --index-url https://test.pypi.org/simple/ --extra-index-url https://pypi.org/simple raga-testing-platform==1.1.94"
   ]
  },
  {
   "cell_type": "markdown",
   "metadata": {},
   "source": [
    "### Put your `ACCESS KEY & SECRET KEY`\n"
   ]
  },
  {
   "cell_type": "code",
   "execution_count": null,
   "metadata": {},
   "outputs": [],
   "source": [
    "# Define the access key, secret key, and host\n",
    "ACCESS_KEY = \"Paste_your_access_key_here\"\n",
    "SECRET_KEY = \"Paste_your_secret_key_here\"\n",
    "HOST = \"https://backend.platform.raga.ai\""
   ]
  },
  {
   "cell_type": "markdown",
   "metadata": {},
   "source": [
    "### Import All raga lib from raga module\n"
   ]
  },
  {
   "cell_type": "code",
   "execution_count": null,
   "metadata": {},
   "outputs": [],
   "source": [
    "from raga import *\n",
    "import datetime"
   ]
  },
  {
   "cell_type": "markdown",
   "metadata": {},
   "source": [
    "### Setup a run\n"
   ]
  },
  {
   "cell_type": "code",
   "execution_count": null,
   "metadata": {},
   "outputs": [],
   "source": [
    "run_name = f\"KneeCoil Detection v1\"\n",
    "\n",
    "test_session = TestSession(\n",
    "    project_name=\"KneeCoil Detection\",\n",
    "    run_name=run_name,\n",
    "    access_key=ACCESS_KEY,\n",
    "    secret_key=SECRET_KEY,\n",
    "    host=HOST\n",
    ")"
   ]
  },
  {
   "cell_type": "markdown",
   "metadata": {},
   "source": [
    "### Dataset name\n"
   ]
  },
  {
   "cell_type": "code",
   "execution_count": null,
   "metadata": {},
   "outputs": [],
   "source": [
    "train_dataset_name = \"philip_train_dataset_v1\"\n",
    "test_dataset_name = \"philip_val_dataset_v1\"\n",
    "augmented_dataset_name = 'train_augmentation'"
   ]
  },
  {
   "cell_type": "markdown",
   "metadata": {},
   "source": [
    "### datadriftTest\n"
   ]
  },
  {
   "cell_type": "code",
   "execution_count": null,
   "metadata": {},
   "outputs": [],
   "source": [
    "rules = DriftDetectionRules()\n",
    "rules.add(type=\"single_class_anomaly_detection\", dist_metric=\"Mahalanobis\", _class=\"ALL\", threshold=threshold)\n",
    "\n",
    "#To Run OD Test\n",
    "edge_case_detection = data_drift_detection(test_session=test_session,\n",
    "                                           test_name=f\"philip_drift_v1\",\n",
    "                                           train_dataset_name=train_dataset_name,\n",
    "                                           field_dataset_name=test_dataset_name,\n",
    "                                           train_embed_col_name=\"ImageEmbedding\",\n",
    "                                           field_embed_col_name = \"ImageEmbedding\",\n",
    "                                           level = \"image\",\n",
    "                                           rules = rules)\n",
    "\n",
    "\n",
    "test_session.add(edge_case_detection)\n",
    "\n",
    "test_session.run()"
   ]
  },
  {
   "cell_type": "markdown",
   "metadata": {},
   "source": [
    "### activeLearningTest\n"
   ]
  },
  {
   "cell_type": "code",
   "execution_count": null,
   "metadata": {},
   "outputs": [],
   "source": [
    "budget = 2000\n",
    "\n",
    "edge_case_detection = active_learning(test_session=test_session,\n",
    "                                      dataset_name = train_dataset_name,\n",
    "                                      test_name = \"active_learniing_train_v1\",\n",
    "                                      type = \"active_learning\",\n",
    "                                      output_type=\"curated_dataset\",\n",
    "                                      embed_col_name=\"ImageEmbedding\",\n",
    "                                      budget=budget)\n",
    "\n",
    "test_session.add(edge_case_detection)\n",
    "\n",
    "test_session.run()"
   ]
  },
  {
   "cell_type": "markdown",
   "metadata": {},
   "source": [
    "### NearDuplicatesTest\n"
   ]
  },
  {
   "cell_type": "code",
   "execution_count": null,
   "metadata": {},
   "outputs": [],
   "source": [
    "rules = LQRules()\n",
    "rules.add(metric=\"similarity_score\", metric_threshold=0.94)\n",
    "\n",
    "\n",
    "dataset_name = \"philip_train_dataset_v1\"\n",
    "edge_case_detection = nearest_duplicate(test_session=test_session,\n",
    "                                          dataset_name = train_dataset_name,\n",
    "                                          test_name = \"Near-Duplicates-v1\",\n",
    "                                          type = \"near_duplicates\",\n",
    "                                          output_type=\"near_duplicates\",\n",
    "                                          embed_col_name=\"ImageEmbedding\",\n",
    "                                          rules=rules)\n",
    "\n",
    "test_session.add(edge_case_detection)\n",
    "\n",
    "test_session.run()"
   ]
  },
  {
   "cell_type": "markdown",
   "metadata": {},
   "source": [
    "### DataLeakageTest\n"
   ]
  },
  {
   "cell_type": "code",
   "execution_count": null,
   "metadata": {},
   "outputs": [],
   "source": [
    "rules = LQRules()\n",
    "rules.add(metric = 'overlapping_samples', metric_threshold = 0.95)\n",
    "\n",
    "\n",
    "edge_case_detection = data_leakage_test(test_session=test_session,\n",
    "                                           test_name=\"dataleakage_philips_v1\",\n",
    "                                           train_dataset_name=train_dataset_name,\n",
    "                                           dataset_name=test_dataset_name,\n",
    "                                           type = \"data_leakage\",\n",
    "                                           output_type=\"image_data\",\n",
    "                                           train_embed_col_name=\"ImageEmbedding\",\n",
    "                                           embed_col_name = \"ImageEmbedding\",\n",
    "                                           rules = rules)\n",
    "\n",
    "test_session.add(edge_case_detection)\n",
    "\n",
    "test_session.run()"
   ]
  },
  {
   "cell_type": "markdown",
   "metadata": {},
   "source": [
    "### OutlierDetection\n"
   ]
  },
  {
   "cell_type": "code",
   "execution_count": null,
   "metadata": {},
   "outputs": [],
   "source": [
    "rules = DriftDetectionRules()\n",
    "rules.add(type=\"anomaly_detection\", dist_metric=\"Mahalanobis\", _class=\"ALL\", threshold=40)\n",
    "\n",
    "edge_case_detection = data_drift_detection(test_session=test_session,\n",
    "                                           test_name=\"Outlier_detection\",\n",
    "                                           dataset_name= train_dataset_name,\n",
    "                                           embed_col_name=\"ImageEmbedding\",\n",
    "                                           output_type = \"outlier_detection\",\n",
    "                                           rules = rules)\n",
    "\n",
    "\n",
    "test_session.add(edge_case_detection)\n",
    "\n",
    "test_session.run()"
   ]
  },
  {
   "cell_type": "markdown",
   "metadata": {},
   "source": [
    "### FMAClustering\n"
   ]
  },
  {
   "cell_type": "code",
   "execution_count": null,
   "metadata": {},
   "outputs": [],
   "source": [
    "rules = FMARules()\n",
    "rules.add(metric=\"Precision\", conf_threshold=0.4, metric_threshold=0.7, iou_threshold=0.4, label=\"ALL\")\n",
    "rules.add(metric=\"F1Score\", conf_threshold=0.4, metric_threshold=0.7, iou_threshold=0.4, label=\"ALL\")\n",
    "rules.add(metric=\"Recall\", conf_threshold=0.4, metric_threshold=0.7, iou_threshold=0.4, label=\"ALL\")\n",
    "\n",
    "cls_default = clustering(test_session=test_session, dataset_name = dataset_name, method=\"k-means\", embedding_col=\"ImageVectorsM1\", level=\"image\", args= {\"numOfClusters\": 8}, force=True)\n",
    "\n",
    "edge_case_detection = failure_mode_analysis(test_session=test_session,\n",
    "                                            dataset_name = augmented_dataset_name,\n",
    "                                            test_name = f\"FMA_Clustering\",\n",
    "                                            model = \"ModelA\",\n",
    "                                            gt = \"GT\",\n",
    "                                            rules = rules,\n",
    "                                            output_type=\"object_detection\",\n",
    "                                            type=\"embedding\",\n",
    "                                            clustering=cls_default\n",
    "                                            )\n",
    "\n",
    "test_session.add(edge_case_detection)\n",
    "\n",
    "test_session.run()"
   ]
  },
  {
   "cell_type": "markdown",
   "metadata": {},
   "source": [
    "### FMAMetaData\n"
   ]
  },
  {
   "cell_type": "code",
   "execution_count": null,
   "metadata": {},
   "outputs": [],
   "source": [
    "rules = FMARules()\n",
    "rules.add(metric=\"Precision\", conf_threshold=0.4, metric_threshold=0.5, iou_threshold=0.4, label=\"ALL\")\n",
    "\n",
    "edge_case_detection = failure_mode_analysis(test_session=test_session,\n",
    "                                            dataset_name = augmented_dataset_name,\n",
    "                                            test_name = \"fma_meta1\",\n",
    "                                            model = \"ModelA\",\n",
    "                                            gt = \"GT\",\n",
    "                                            rules = rules,\n",
    "                                            output_type=\"object_detection\",\n",
    "                                            type=\"metadata\",\n",
    "                                            aggregation_level=['Augmentation']\n",
    "                                            )\n",
    "\n",
    "test_session.add(edge_case_detection)\n",
    "\n",
    "test_session.run()"
   ]
  },
  {
   "cell_type": "markdown",
   "metadata": {},
   "source": [
    "### ScenarioImbalance\n"
   ]
  },
  {
   "cell_type": "code",
   "execution_count": null,
   "metadata": {},
   "outputs": [],
   "source": [
    "rules = SBRules()\n",
    "rules.add(metric=\"js_divergence\", ideal_distribution=\"uniform\", metric_threshold=0.1)\n",
    "rules.add(metric=\"chi_squared_test\", ideal_distribution=\"uniform\", metric_threshold=0.1)\n",
    "\n",
    "edge_case_detection = scenario_imbalance(test_session=test_session,\n",
    "                                            dataset_name = augmented_dataset_name,\n",
    "                                            test_name = \"Scenario_Imbalance4\",\n",
    "                                            type = \"scenario_imbalance\",\n",
    "                                            output_type=\"metadata\",\n",
    "                                            rules = rules,\n",
    "                                            aggregationLevels=[\"brightness\"]\n",
    "                                             )\n",
    "\n",
    "test_session.add(edge_case_detection)\n",
    "\n",
    "test_session.run()"
   ]
  },
  {
   "cell_type": "markdown",
   "metadata": {},
   "source": [
    "### LabelingQualityTest\n"
   ]
  },
  {
   "cell_type": "code",
   "execution_count": null,
   "metadata": {},
   "outputs": [],
   "source": [
    "dataset_name = \"train13\"\n",
    "\n",
    "rules = LQRules()\n",
    "rules.add(metric=\"mistake_score\", label=[\"ALL\"], metric_threshold=0.93)\n",
    "\n",
    "\n",
    "edge_case_detection = labelling_quality_test(test_session=test_session,\n",
    "                                            dataset_name = dataset_name,\n",
    "                                            test_name = \"Labeling Quality Test\",\n",
    "                                            type = \"labelling_consistency\",\n",
    "                                            output_type=\"object_detection\",\n",
    "                                            mistake_score_col_name = \"MistakeScore\",\n",
    "                                            gt=\"GT\",\n",
    "                                            model=\"GT\",\n",
    "                                            rules = rules)\n",
    "test_session.add(edge_case_detection)\n",
    "\n",
    "test_session.run()"
   ]
  }
 ],
 "metadata": {
  "language_info": {
   "name": "python"
  }
 },
 "nbformat": 4,
 "nbformat_minor": 2
}
