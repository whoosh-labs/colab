{
  "cells": [
    {
      "cell_type": "markdown",
      "metadata": {
        "id": "AsHqbEo0ldgZ"
      },
      "source": [
        "## 🪄 Install `raga-testing-platform` library\n"
      ]
    },
    {
      "cell_type": "code",
      "execution_count": null,
      "metadata": {
        "id": "mptHVuOXldge",
        "vscode": {
          "languageId": "plaintext"
        }
      },
      "outputs": [],
      "source": [
        "pip install --index-url https://test.pypi.org/simple/ --extra-index-url https://pypi.org/simple raga-testing-platform==1.2.3"
      ]
    },
    {
      "cell_type": "markdown",
      "metadata": {
        "id": "-MqvpwqSldgg"
      },
      "source": [
        "### Put your `ACCESS KEY & SECRET KEY`\n"
      ]
    },
    {
      "cell_type": "code",
      "execution_count": null,
      "metadata": {
        "id": "nX8PY6OOldgg"
      },
      "outputs": [],
      "source": [
        "# Define the access key, secret key, and host\n",
        "ACCESS_KEY = \"Paste_your_access_key_here\"\n",
        "SECRET_KEY = \"Paste_your_secret_key_here\"\n",
        "HOST = \"https://backend.platform.raga.ai\""
      ]
    },
    {
      "cell_type": "markdown",
      "metadata": {
        "id": "SOPfGqW7ldgh"
      },
      "source": [
        "### Import All raga lib from raga module\n"
      ]
    },
    {
      "cell_type": "code",
      "execution_count": null,
      "metadata": {
        "id": "GO827YR-ldgh"
      },
      "outputs": [],
      "source": [
        "from raga import *\n",
        "import datetime"
      ]
    },
    {
      "cell_type": "markdown",
      "metadata": {
        "id": "Fpo6WmgOldgh"
      },
      "source": [
        "### 🪄 Set up a Run\n"
      ]
    },
    {
      "cell_type": "code",
      "execution_count": null,
      "metadata": {
        "id": "ul7jkrCCldgi"
      },
      "outputs": [],
      "source": [
        "run_name = \"cropin_tests\""
      ]
    },
    {
      "cell_type": "markdown",
      "metadata": {
        "id": "Zxzm7eKbldgk"
      },
      "source": [
        "### Active Learning Test\n"
      ]
    },
    {
      "cell_type": "code",
      "execution_count": null,
      "metadata": {
        "id": "cXRzPXgxldgk"
      },
      "outputs": [],
      "source": [
        "dataset_name = \"test_dataset_v1\"\n",
        "\n",
        "test_session = TestSession(\n",
        "    project_name=\"Cropin\",\n",
        "    run_name=run_name,\n",
        "    access_key=ACCESS_KEY,\n",
        "    secret_key=SECRET_KEY,\n",
        "    host=HOST\n",
        ")\n",
        "budget = 500\n",
        "\n",
        "edge_case_detection = active_learning(test_session=test_session,\n",
        "                                      dataset_name = dataset_name,\n",
        "                                      test_name = \"active_learning_v0\",\n",
        "                                      type = \"active_learning\",\n",
        "                                      output_type=\"curated_dataset\",\n",
        "                                      embed_col_name=\"ImageEmbedding\",\n",
        "                                      budget=budget)\n",
        "\n",
        "test_session.add(edge_case_detection)\n",
        "\n",
        "test_session.run()"
      ]
    },
    {
      "cell_type": "markdown",
      "metadata": {
        "id": "RD7C7PUUldgl"
      },
      "source": [
        "### Near Duplicates Test\n"
      ]
    },
    {
      "cell_type": "code",
      "execution_count": null,
      "metadata": {
        "id": "WkcQ0sfkldgl"
      },
      "outputs": [],
      "source": [
        "dataset_name = \"test_dataset_v1\"\n",
        "\n",
        "test_session = TestSession(\n",
        "    project_name=\"Cropin\",\n",
        "    run_name=run_name,\n",
        "    access_key=ACCESS_KEY,\n",
        "    secret_key=SECRET_KEY,\n",
        "    host=HOST\n",
        ")\n",
        "\n",
        "rules = LQRules()\n",
        "rules.add(metric=\"similarity_score\", metric_threshold=0.90)\n",
        "\n",
        "edge_case_detection = nearest_duplicate(test_session=test_session,\n",
        "                                            dataset_name = dataset_name,\n",
        "                                            test_name = \"Near-Duplicates-v1\",\n",
        "                                            type = \"near_duplicates\",\n",
        "                                            output_type=\"near_duplicates\",\n",
        "                                            embed_col_name=\"ImageEmbedding\",\n",
        "                                            rules=rules)\n",
        "test_session.add(edge_case_detection)\n",
        "test_session.run()"
      ]
    },
    {
      "cell_type": "markdown",
      "metadata": {
        "id": "GZcX_caVldgn"
      },
      "source": [
        "### Outlier Detection Test\n"
      ]
    },
    {
      "cell_type": "code",
      "execution_count": null,
      "metadata": {
        "id": "I4-znyDrldgn"
      },
      "outputs": [],
      "source": [
        "threshold=61\n",
        "dataset_name = \"outlier_new_data_11632_pts_v2\"\n",
        "\n",
        "test_session = TestSession(\n",
        "    project_name=\"Cropin\",\n",
        "    run_name=run_name,\n",
        "    access_key=ACCESS_KEY,\n",
        "    secret_key=SECRET_KEY,\n",
        "    host=HOST\n",
        ")\n",
        "\n",
        "rules = DriftDetectionRules()\n",
        "rules.add(type=\"anomaly_detection\", dist_metric=\"Mahalanobis\", _class=\"ALL\", threshold=threshold)\n",
        "\n",
        "edge_case_detection = data_drift_detection(\n",
        "    test_session=test_session,\n",
        "    test_name=f\"Outlier_Detection2\",\n",
        "    dataset_name=dataset_name,\n",
        "    embed_col_name = \"ImageEmbedding\",\n",
        "    output_type = \"outlier_detection\",\n",
        "    rules = rules\n",
        "    )\n",
        "\n",
        "test_session.add(edge_case_detection)\n",
        "\n",
        "test_session.run()"
      ]
    },
    {
      "cell_type": "markdown",
      "metadata": {
        "id": "QdwYrrbkldgn"
      },
      "source": [
        "### Failure Mode Analysis - Clustering\n"
      ]
    },
    {
      "cell_type": "code",
      "execution_count": null,
      "metadata": {
        "id": "qUq4ssaVldgo"
      },
      "outputs": [],
      "source": [
        "dataset_name = \"fma_cluster_dataset\"\n",
        "number_of_clusters = 4\n",
        "threshold = 0.3\n",
        "\n",
        "test_session = TestSession(\n",
        "    project_name=\"Cropin\",\n",
        "    run_name=run_name,\n",
        "    access_key=ACCESS_KEY,\n",
        "    secret_key=SECRET_KEY,\n",
        "    host=HOST\n",
        ")\n",
        "\n",
        "rules = FMARules()\n",
        "rules.add(metric=\"Precision\", metric_threshold=threshold, label=\"ALL\", type=\"label\", background_label=\"Unlabeled\", include_background=False)\n",
        "\n",
        "cls_default = clustering(test_session=test_session, dataset_name=dataset_name, method=\"k-means\", embedding_col=\"ImageEmbedding\", level=\"image\", args={\"numOfClusters\": number_of_clusters}, interpolation=False, force=True)\n",
        "\n",
        "edge_case_detection = failure_mode_analysis(test_session=test_session, dataset_name=dataset_name, test_name=\"Test1\", model=\"modelA\", gt=\"GT\", rules=rules, output_type=\"semantic_segmentation\", clustering=cls_default, type=\"embedding\")\n",
        "\n",
        "test_session.add(edge_case_detection)\n",
        "\n",
        "test_session.run()"
      ]
    },
    {
      "cell_type": "markdown",
      "metadata": {
        "id": "5GVze6Tmldgo"
      },
      "source": [
        "### Failure Mode Analysis - Metadata Test(Cloudy)\n"
      ]
    },
    {
      "cell_type": "code",
      "execution_count": null,
      "metadata": {
        "id": "XCVwiTI3ldgo"
      },
      "outputs": [],
      "source": [
        "test_session = TestSession(\n",
        "    project_name=\"Cropin\",\n",
        "    run_name=run_name,\n",
        "    access_key=ACCESS_KEY,\n",
        "    secret_key=SECRET_KEY,\n",
        "    host=HOST\n",
        ")\n",
        "\n",
        "rules = FMARules()\n",
        "rules.add(metric=\"Precision\", conf_threshold=0.4, metric_threshold=0.35, iou_threshold=0.4, label=\"ALL\")\n",
        "\n",
        "\n",
        "edge_case_detection = failure_mode_analysis(test_session=test_session,\n",
        "                                            dataset_name = \"test_dataset_v1\",\n",
        "                                            test_name = \"Test2\",\n",
        "                                            model = \"modelA\",\n",
        "                                            gt = \"GT\",\n",
        "                                            rules = rules,\n",
        "                                            output_type=\"semantic_segmentation\",\n",
        "                                            type=\"metadata\",\n",
        "                                            aggregation_level=['cloudy_scenario']\n",
        "                                            )\n",
        "\n",
        "test_session.add(edge_case_detection)\n",
        "\n",
        "test_session.run()"
      ]
    },
    {
      "cell_type": "markdown",
      "metadata": {
        "id": "cUdjAYnk7evc"
      },
      "source": [
        "### Failure Mode Analysis - Metadata Test(Crop Count)\n"
      ]
    },
    {
      "cell_type": "code",
      "execution_count": null,
      "metadata": {
        "id": "EIaOnBrb7hoU"
      },
      "outputs": [],
      "source": [
        "test_session = TestSession(\n",
        "    project_name=\"Cropin\",\n",
        "    run_name=run_name,\n",
        "    access_key=ACCESS_KEY,\n",
        "    secret_key=SECRET_KEY,\n",
        "    host=HOST\n",
        ")\n",
        "\n",
        "rules = FMARules()\n",
        "rules.add(metric=\"Precision\", conf_threshold=0.4, metric_threshold=0.35, iou_threshold=0.4, label=\"ALL\")\n",
        "\n",
        "\n",
        "edge_case_detection = failure_mode_analysis(test_session=test_session,\n",
        "                                            dataset_name = \"test_dataset_v1\",\n",
        "                                            test_name = \"Test3\",\n",
        "                                            model = \"modelA\",\n",
        "                                            gt = \"GT\",\n",
        "                                            rules = rules,\n",
        "                                            output_type=\"semantic_segmentation\",\n",
        "                                            type=\"metadata\",\n",
        "                                            aggregation_level=['crop_count']\n",
        "                                            )\n",
        "\n",
        "test_session.add(edge_case_detection)\n",
        "\n",
        "test_session.run()"
      ]
    },
    {
      "cell_type": "markdown",
      "metadata": {
        "id": "TaK1EXuGldgp"
      },
      "source": [
        "### Scenario Imbalance Test (Month)\n"
      ]
    },
    {
      "cell_type": "code",
      "execution_count": null,
      "metadata": {
        "id": "Wg5OkTqOldgp"
      },
      "outputs": [],
      "source": [
        "dataset_name = \"test_dataset_v1\"\n",
        "\n",
        "test_session = TestSession(\n",
        "    project_name=\"Cropin\",\n",
        "    run_name=run_name,\n",
        "    access_key=ACCESS_KEY,\n",
        "    secret_key=SECRET_KEY,\n",
        "    host=HOST\n",
        ")\n",
        "\n",
        "rules = SBRules()\n",
        "rules.add(metric=\"js_divergence\", ideal_distribution=\"uniform\", metric_threshold=0.1)\n",
        "rules.add(metric=\"chi_squared_test\", ideal_distribution=\"uniform\", metric_threshold=0.1)\n",
        "\n",
        "\n",
        "\n",
        "edge_case_detection = scenario_imbalance(test_session=test_session,\n",
        "                                            dataset_name = dataset_name,\n",
        "                                            test_name = \"Scenario_Imbalance5\",\n",
        "                                            type = \"scenario_imbalance\",\n",
        "                                            output_type=\"metadata\",\n",
        "                                            rules = rules,\n",
        "                                            aggregationLevels=[\"month\"]\n",
        "                                             )\n",
        "\n",
        "test_session.add(edge_case_detection)\n",
        "\n",
        "test_session.run()"
      ]
    },
    {
      "cell_type": "markdown",
      "metadata": {
        "id": "E7dD0luF-Ski"
      },
      "source": [
        "### Scenario Imbalance Test (Crop Count)\n"
      ]
    },
    {
      "cell_type": "code",
      "execution_count": null,
      "metadata": {
        "id": "pc4MM0F1-M3N"
      },
      "outputs": [],
      "source": [
        "dataset_name = \"test_dataset_v1\"\n",
        "\n",
        "test_session = TestSession(\n",
        "    project_name=\"Cropin\",\n",
        "    run_name=run_name,\n",
        "    access_key=ACCESS_KEY,\n",
        "    secret_key=SECRET_KEY,\n",
        "    host=HOST\n",
        ")\n",
        "\n",
        "rules = SBRules()\n",
        "rules.add(metric=\"js_divergence\", ideal_distribution=\"uniform\", metric_threshold=0.1)\n",
        "rules.add(metric=\"chi_squared_test\", ideal_distribution=\"uniform\", metric_threshold=0.1)\n",
        "\n",
        "\n",
        "\n",
        "edge_case_detection = scenario_imbalance(test_session=test_session,\n",
        "                                            dataset_name = dataset_name,\n",
        "                                            test_name = \"Scenario_Imbalance4\",\n",
        "                                            type = \"scenario_imbalance\",\n",
        "                                            output_type=\"metadata\",\n",
        "                                            rules = rules,\n",
        "                                            aggregationLevels=[\"crop_count\"]\n",
        "                                             )\n",
        "\n",
        "test_session.add(edge_case_detection)\n",
        "\n",
        "test_session.run()"
      ]
    },
    {
      "cell_type": "markdown",
      "metadata": {
        "id": "gsKVM5-inKMx"
      },
      "source": [
        "###Class Imbalance Test\n"
      ]
    },
    {
      "cell_type": "code",
      "execution_count": null,
      "metadata": {
        "id": "EE8xCeWMnJXY"
      },
      "outputs": [],
      "source": [
        "dataset_name = \"test_dataset_v1\"\n",
        "\n",
        "test_session = TestSession(\n",
        "    project_name=\"Cropin\",\n",
        "    run_name=run_name,\n",
        "    access_key=ACCESS_KEY,\n",
        "    secret_key=SECRET_KEY,\n",
        "    host=HOST\n",
        ")\n",
        "\n",
        "rules = ClassImbalanceRules()\n",
        "rules.add(metric=\"js_divergence\", ideal_distribution=\"uniform\", metric_threshold=0.10, label=\"ALL\")\n",
        "rules.add(metric=\"chi_squared_test\", ideal_distribution=\"uniform\", metric_threshold=0.10, label=\"ALL\")\n",
        "\n",
        "distribution_test = class_imbalance_test(test_session=test_session,\n",
        "                                         dataset_name=dataset_name,\n",
        "                                         test_name=\"Class Imbalance Test1\",\n",
        "                                         type=\"class_imbalance\",\n",
        "                                         output_type=\"semantic_segmentation\",\n",
        "                                         annotation_column_name=\"Annotations\",\n",
        "                                         rules=rules)\n",
        "\n",
        "test_session.add(distribution_test)\n",
        "test_session.run()"
      ]
    },
    {
      "cell_type": "markdown",
      "metadata": {
        "id": "5IrrwMUhldgp"
      },
      "source": [
        "### Labeling Quality Test\n"
      ]
    },
    {
      "cell_type": "code",
      "execution_count": null,
      "metadata": {
        "id": "YxhJnOcJldgp"
      },
      "outputs": [],
      "source": [
        "test_session = TestSession(\n",
        "    project_name=\"Cropin\",\n",
        "    run_name=run_name,\n",
        "    access_key=ACCESS_KEY,\n",
        "    secret_key=SECRET_KEY,\n",
        "    host=HOST\n",
        ")\n",
        "\n",
        "rules = LQRules()\n",
        "rules.add(metric=\"mistake_score\", label=[\"ALL\"], metric_threshold=0.5)\n",
        "\n",
        "\n",
        "edge_case_detection = labelling_quality_test(test_session=test_session,\n",
        "                                            dataset_name = \"mistake_score_dataset_v3\",\n",
        "                                            test_name = \"Labeling Quality Test\",\n",
        "                                            type = \"labelling_consistency\",\n",
        "                                            output_type=\"semantic_segmentation\",\n",
        "                                            mistake_score_col_name = \"MistakeScores\",\n",
        "                                            rules = rules)\n",
        "test_session.add(edge_case_detection)\n",
        "\n",
        "test_session.run()"
      ]
    },
    {
      "cell_type": "markdown",
      "metadata": {
        "id": "56LQV5UAp3Uz"
      },
      "source": [
        "###Image Property Drift Test\n"
      ]
    },
    {
      "cell_type": "code",
      "execution_count": null,
      "metadata": {
        "id": "uTqHSw-Ep3DX"
      },
      "outputs": [],
      "source": [
        "reference_dataset_name = \"train_dataset_v1\"\n",
        "eval_dataset_name = \"test_dataset_v1\"\n",
        "\n",
        "test_session = TestSession(\n",
        "    project_name=\"Cropin\",\n",
        "    run_name=run_name,\n",
        "    access_key=ACCESS_KEY,\n",
        "    secret_key=SECRET_KEY,\n",
        "    host=HOST\n",
        ")\n",
        "\n",
        "\n",
        "rules = IPDRules()\n",
        "rules.add(metric=\"image-property-suite\")\n",
        "\n",
        "edge_case_detection = image_property_drift(test_session=test_session,\n",
        "                                           reference_dataset_name=reference_dataset_name,\n",
        "                                           eval_dataset_name=eval_dataset_name,\n",
        "                                           rules=rules,\n",
        "                                           test_name=\"Image-Property-Drift\",\n",
        "                                           type=\"image-property-drift\",\n",
        "                                           output_type=\"image-data\"\n",
        "                                           )\n",
        "test_session.add(edge_case_detection)\n",
        "\n",
        "test_session.run()"
      ]
    },
    {
      "cell_type": "markdown",
      "metadata": {
        "id": "r5tceaNqqDYK"
      },
      "source": [
        "###Semantic Similarity Test\n"
      ]
    },
    {
      "cell_type": "code",
      "execution_count": null,
      "metadata": {
        "id": "T4qBoqmhqHha"
      },
      "outputs": [],
      "source": [
        "dataset_name = \"semantic_similarty_half_and_last_v2\"\n",
        "\n",
        "test_session = TestSession(\n",
        "    project_name=\"Cropin\",\n",
        "    run_name=run_name,\n",
        "    access_key=ACCESS_KEY,\n",
        "    secret_key=SECRET_KEY,\n",
        "    host=HOST\n",
        ")\n",
        "\n",
        "rules = LQRules()\n",
        "rules.add(metric=\"similarity_score\", metric_threshold=0.75)\n",
        "\n",
        "edge_case_detection = semantic_similarity(test_session=test_session,\n",
        "                                      dataset_name = dataset_name,\n",
        "                                      test_name = \"active_learning_1\",\n",
        "                                      type = \"semantic_similarity\",\n",
        "                                      output_type=\"super_resolution\",\n",
        "                                      embed_col_name=\"half_date_ImageEmbedding\",\n",
        "                                      generated_embed_col_name=\"last_date_ImageEmbedding\",\n",
        "                                      rules=rules)\n",
        "\n",
        "test_session.add(edge_case_detection)\n",
        "\n",
        "test_session.run()"
      ]
    },
    {
      "cell_type": "markdown",
      "metadata": {
        "id": "dw9yBDhJrhrJ"
      },
      "source": [
        "###Cluster Imbalance Test\n"
      ]
    },
    {
      "cell_type": "code",
      "execution_count": null,
      "metadata": {
        "id": "FYkiqixWqdkl"
      },
      "outputs": [],
      "source": [
        "dataset_name = \"test_dataset_v1\"\n",
        "\n",
        "test_session = TestSession(\n",
        "    project_name=\"Cropin\",\n",
        "    run_name=run_name,\n",
        "    access_key=ACCESS_KEY,\n",
        "    secret_key=SECRET_KEY,\n",
        "    host=HOST\n",
        ")\n",
        "\n",
        "rules = SBRules()\n",
        "rules.add(metric=\"js_divergence\", ideal_distribution=\"uniform\", metric_threshold=0.1)\n",
        "rules.add(metric=\"chi_squared_test\", ideal_distribution=\"uniform\", metric_threshold=0.1)\n",
        "\n",
        "cls_default = clustering(test_session=test_session,\n",
        "                         dataset_name=dataset_name,\n",
        "                         method=\"k-means\",\n",
        "                         embedding_col=\"ImageEmbedding\",\n",
        "                         level=\"image\",\n",
        "                         args={\"numOfClusters\": 8}\n",
        "                         )\n",
        "\n",
        "edge_case_detection = scenario_imbalance(test_session=test_session,\n",
        "                                            dataset_name = dataset_name,\n",
        "                                            test_name = \"Scenario_Imbalance\",\n",
        "                                            type = \"scenario_imbalance\",\n",
        "                                            output_type=\"cluster\",\n",
        "                                            embedding= \"ImageEmbedding\",\n",
        "                                            rules = rules,\n",
        "                                            clustering = cls_default\n",
        "                                             )\n",
        "test_session.add(edge_case_detection)\n",
        "\n",
        "test_session.run()"
      ]
    },
    {
      "cell_type": "markdown",
      "metadata": {
        "id": "eGEzX8EsaR1I"
      },
      "source": [
        "###Spatio-Temporal Drift Test\n"
      ]
    },
    {
      "cell_type": "code",
      "execution_count": null,
      "metadata": {
        "id": "XTSNkia8aRVD"
      },
      "outputs": [],
      "source": [
        "from raga import DriftDetectionRules, TestSession, spatio_temporal_drift_test\n",
        "import datetime\n",
        "\n",
        "rules = DriftDetectionRules()\n",
        "rules.add(type=\"anomaly_detection\", dist_metric=\"Mahalanobis\", _class=\"ALL\", threshold=50.0)\n",
        "\n",
        "test_session = TestSession(\n",
        "    project_name=\"Cropin\",\n",
        "    run_name=run_name,\n",
        "    access_key=ACCESS_KEY,\n",
        "    secret_key=SECRET_KEY,\n",
        "    host=HOST\n",
        ")\n",
        "\n",
        "edge_case_detection = spatio_temporal_drift_test(test_session=test_session,\n",
        "                                               test_name=\"Drift-detection-test-spatio\",\n",
        "                                               train_dataset_name=\"train_dataset_spatio_v2\",\n",
        "                                               field_dataset_name=\"test_dataset_spatio-v3\",\n",
        "                                               train_embed_col_name=\"ImageEmbedding\",\n",
        "                                               field_embed_col_name = \"ImageEmbedding\",\n",
        "                                               model = \"imageModel\",\n",
        "                                               level = \"image\",\n",
        "                                               primary_metadata = \"place\",\n",
        "                                               primary_metadata_type= \"categorical\",\n",
        "                                               type= \"spatio-temporal\",\n",
        "                                               rules = rules)\n",
        "\n",
        "test_session.add(edge_case_detection)\n",
        "\n",
        "test_session.run()"
      ]
    },
    {
      "cell_type": "markdown",
      "metadata": {
        "id": "cOzWW87aam_Z"
      },
      "source": [
        "###Spatio-Temporal Failure Mode Analysis Test\n"
      ]
    },
    {
      "cell_type": "code",
      "execution_count": null,
      "metadata": {
        "id": "20j8RuieamrH"
      },
      "outputs": [],
      "source": [
        "from raga import *\n",
        "import datetime\n",
        "from raga import clustering, TestSession, FMARules, failure_mode_analysis_geospatial\n",
        "\n",
        "dataset_name = 'test_dataset_spatio-v3'\n",
        "\n",
        "test_session = TestSession(\n",
        "    project_name=\"Cropin\",\n",
        "    run_name=run_name,\n",
        "    access_key=ACCESS_KEY,\n",
        "    secret_key=SECRET_KEY,\n",
        "    host=HOST\n",
        ")\n",
        "\n",
        "rules = FMARules()\n",
        "\n",
        "rules.add(metric='F1Score',metric_threshold=0.2,conf_threshold=0.4,iou_threshold=0.8,background_label= \"background\",include_background=True,type=\"label\",clazz=[\"ALL\"])\n",
        "rules.add(metric=\"PixelAccuracy\",metric_threshold=0.7,conf_threshold=0.5,iou_threshold=0.5, clazz=[\"ALL\"], type=\"label\", background_label=\"Unlabelled\", include_background=True)\n",
        "rules.add(metric = \"Precision\",  metric_threshold = 0.3,conf_threshold=0.5,iou_threshold=0.5, clazz=[\"ALL\"], type=\"label\", background_label=\"background\", include_background=True)\n",
        "rules.add(metric=\"wIoU\", metric_threshold=0.1,conf_threshold=0.5,iou_threshold=0.5, weights={\"road\": 100, \"unlabelled\": 1}, type=\"label\", clazz=[\"ALL\"])\n",
        "rules.add(metric=\"Recall\", metric_threshold=0.2,conf_threshold=0.5,iou_threshold=0.5, clazz=[\"ALL\"], type=\"label\", background_label=\"Unlabelled\", include_background=True)\n",
        "\n",
        "cls_default = clustering(test_session=test_session,\n",
        "                         dataset_name=dataset_name,\n",
        "                         method=\"k-means\",\n",
        "                         embedding_col=\"ImageEmbedding\",\n",
        "                         level=\"image\",\n",
        "                         args={\"numOfClusters\": 5}\n",
        "                         )\n",
        "\n",
        "edge_case_detection = failure_mode_analysis_geospatial(test_session=test_session,\n",
        "                                            dataset_name=dataset_name,\n",
        "                                            test_name=\"fma_semantic_geospatial_1\",\n",
        "                                            modelColumnName=\"ModelInferences\",\n",
        "                                            gtColumnName=\"LabelPath\",\n",
        "                                            rules=rules,\n",
        "                                            outputType=\"semantic_segmentation\",\n",
        "                                            embeddingColumnName=\"ImageEmbedding\",\n",
        "                                            clustering=cls_default,\n",
        "                                            labelMapping={\n",
        "                                                    \"0\": \"No Data\",\n",
        "                                                    \"1\": \"Lucerne/Medics\",\n",
        "                                                    \"2\": \"Planted pastures (perennial)\",\n",
        "                                                    \"3\": \"Fallow\",\n",
        "                                                    \"4\": \"Wine grapes\",\n",
        "                                                    \"5\": \"Weeds\",\n",
        "                                                    \"6\": \"Small grain grazing\",\n",
        "                                                    \"7\": \"Wheat\",\n",
        "                                                    \"8\": \"Canola\",\n",
        "                                                    \"9\": \"Rooibos\"\n",
        "                                                },\n",
        "                                            type=\"fma\",\n",
        "                                            primary_metadata= \"place\")\n",
        "\n",
        "test_session.add(edge_case_detection)\n",
        "\n",
        "test_session.run()"
      ]
    },
    {
      "cell_type": "code",
      "execution_count": null,
      "metadata": {
        "id": "8guUaTmZxGzc"
      },
      "outputs": [],
      "source": []
    }
  ],
  "metadata": {
    "colab": {
      "provenance": []
    },
    "kernelspec": {
      "display_name": "Python 3",
      "name": "python3"
    },
    "language_info": {
      "name": "python"
    }
  },
  "nbformat": 4,
  "nbformat_minor": 0
}
