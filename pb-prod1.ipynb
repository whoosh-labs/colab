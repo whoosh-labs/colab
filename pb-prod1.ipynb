{
 "cells": [
  {
   "cell_type": "markdown",
   "metadata": {
    "id": "3Mes14OE_FKe"
   },
   "source": [
    "## 🪄 Install `raga-testing-platform` library"
   ]
  },
  {
   "cell_type": "code",
   "execution_count": null,
   "metadata": {
    "colab": {
     "base_uri": "https://localhost:8080/",
     "height": 974
    },
    "executionInfo": {
     "elapsed": 26844,
     "status": "ok",
     "timestamp": 1691405567997,
     "user": {
      "displayName": "Jigar Gupta",
      "userId": "00208144866133401220"
     },
     "user_tz": -330
    },
    "id": "Rwn6MxYLjHlv",
    "outputId": "f8043fb6-38d6-4658-94d9-78bacaca11fc"
   },
   "outputs": [],
   "source": [
    "pip install -U raga-testing-platform"
   ]
  },
  {
   "cell_type": "markdown",
   "metadata": {},
   "source": [
    "### Put your `ACCESS KEY & SECRET KEY`"
   ]
  },
  {
   "cell_type": "code",
   "execution_count": null,
   "metadata": {},
   "outputs": [],
   "source": [
    "# Define the access key, secret key, and host\n",
    "ACCESS_KEY = \"Paste_your_access_key_here\"\n",
    "SECRET_KEY = \"Paste_your_secret_key_here\"\n",
    "HOST = \"https://backend.prod1.ragaai.ai\""
   ]
  },
  {
   "cell_type": "markdown",
   "metadata": {
    "id": "AbvYl1de9RRm"
   },
   "source": [
    "### Import All raga lib from raga module"
   ]
  },
  {
   "cell_type": "code",
   "execution_count": null,
   "metadata": {
    "executionInfo": {
     "elapsed": 536,
     "status": "ok",
     "timestamp": 1691405595735,
     "user": {
      "displayName": "Jigar Gupta",
      "userId": "00208144866133401220"
     },
     "user_tz": -330
    },
    "id": "LiD0Z4NSjQln"
   },
   "outputs": [],
   "source": [
    "from raga import *\n",
    "import datetime"
   ]
  },
  {
   "cell_type": "markdown",
   "metadata": {
    "id": "opiMOa6c9v-T"
   },
   "source": [
    "### 🪄 Set up a Run"
   ]
  },
  {
   "cell_type": "code",
   "execution_count": null,
   "metadata": {
    "colab": {
     "base_uri": "https://localhost:8080/"
    },
    "executionInfo": {
     "elapsed": 961,
     "status": "ok",
     "timestamp": 1691405616362,
     "user": {
      "displayName": "Jigar Gupta",
      "userId": "00208144866133401220"
     },
     "user_tz": -330
    },
    "id": "5ZZzWR3zkncE",
    "outputId": "e9cee100-321c-49ba-839d-741a21599d06"
   },
   "outputs": [],
   "source": [
    "project_name = \"NLP\"\n",
    "run_name = f\"Demo-Run-{datetime.datetime.now().strftime('%Y%m%d%H%M%S')}\"\n",
    "test_session = TestSession(project_name=project_name,run_name=run_name, access_key=ACCESS_KEY, secret_key=SECRET_KEY, host=HOST)"
   ]
  },
  {
   "cell_type": "markdown",
   "metadata": {
    "collapsed": false
   },
   "source": [
    "### 👟 Run Drift test "
   ]
  },
  {
   "cell_type": "code",
   "execution_count": null,
   "metadata": {
    "executionInfo": {
     "elapsed": 4,
     "status": "ok",
     "timestamp": 1691405789176,
     "user": {
      "displayName": "Jigar Gupta",
      "userId": "00208144866133401220"
     },
     "user_tz": -330
    },
    "id": "QtY8R1h87Doq"
   },
   "outputs": [],
   "source": [
    "rules = DriftDetectionRules()\n",
    "rules.add(type=\"anomaly_detection\", dist_metric=\"Mahalanobis\", _class=\"ALL\", threshold=45)\n",
    "\n",
    "train_dataset_name = \"train_dataset_pb\"\n",
    "field_dataset_name = \"field_dataset_pb\"\n",
    "\n",
    "edge_case_detection = data_drift_detection(test_session=test_session,\n",
    "                                           test_name=\"Drift-detection-test\",\n",
    "                                           train_dataset_name=train_dataset_name,\n",
    "                                           field_dataset_name=field_dataset_name,\n",
    "                                           train_embed_col_name=\"embedding\",\n",
    "                                           field_embed_col_name = \"embedding\",\n",
    "                                           output_type = \"embedding_data\",\n",
    "                                           level = \"image\",\n",
    "                                           rules = rules)\n",
    "\n",
    "test_session.add(edge_case_detection)\n",
    "\n",
    "test_session.run()"
   ]
  },
  {
   "cell_type": "markdown",
   "metadata": {},
   "source": [
    "### 👟 Run Labelling Consistency test"
   ]
  },
  {
   "cell_type": "code",
   "execution_count": null,
   "metadata": {},
   "outputs": [],
   "source": [
    "rules = LQRules()\n",
    "rules.add(metric=\"mistake_score\", label=[\"ALL\"])\n",
    "\n",
    "dataset_name = \"train_dataset_pb\"\n",
    "\n",
    "edge_case_detection = labelling_quality_test(test_session=test_session,\n",
    "                                             dataset_name = dataset_name,\n",
    "                                             test_name = \"pb_labelling_quality_2\",\n",
    "                                             train_model_column_name = \"target\",\n",
    "                                             field_model_column_name = \"target\",\n",
    "                                             type = \"labelling_consistency\",\n",
    "                                             output_type=\"embedding_data\",\n",
    "                                             embedding_train_col_name = \"embedding\",\n",
    "                                             embedding_field_col_name = \"embedding\",\n",
    "                                             rules = rules)\n",
    "test_session.add(edge_case_detection)\n",
    "\n",
    "test_session.run()"
   ]
  },
  {
   "cell_type": "markdown",
   "metadata": {},
   "source": [
    "Please switch to https://prod1.ragaai.ai/projects"
   ]
  },
  {
   "cell_type": "markdown",
   "metadata": {},
   "source": []
  }
 ],
 "metadata": {
  "colab": {
   "provenance": [
    {
     "file_id": "1bIV1B75MjPD9QYqjV0rZxniDLx-d7pT_",
     "timestamp": 1690810321558
    },
    {
     "file_id": "1A7QArQeJPoxaq7MHx5LBGeaBbbcu6cFm",
     "timestamp": 1690810096548
    }
   ]
  },
  "kernelspec": {
   "display_name": "Python 3",
   "name": "python3"
  },
  "language_info": {
   "codemirror_mode": {
    "name": "ipython",
    "version": 3
   },
   "file_extension": ".py",
   "mimetype": "text/x-python",
   "name": "python",
   "nbconvert_exporter": "python",
   "pygments_lexer": "ipython3",
   "version": "3.9.6"
  }
 },
 "nbformat": 4,
 "nbformat_minor": 0
}
