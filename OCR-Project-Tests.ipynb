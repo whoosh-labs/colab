{
 "cells": [
  {
   "cell_type": "markdown",
   "metadata": {
    "id": "3Mes14OE_FKe"
   },
   "source": [
    "## 🪄 Install `raga-testing-platform` library"
   ]
  },
  {
   "cell_type": "code",
   "execution_count": null,
   "metadata": {
    "colab": {
     "base_uri": "https://localhost:8080/",
     "height": 974
    },
    "executionInfo": {
     "elapsed": 26844,
     "status": "ok",
     "timestamp": 1691405567997,
     "user": {
      "displayName": "Jigar Gupta",
      "userId": "00208144866133401220"
     },
     "user_tz": -330
    },
    "id": "Rwn6MxYLjHlv",
    "outputId": "f8043fb6-38d6-4658-94d9-78bacaca11fc"
   },
   "outputs": [],
   "source": [
    "pip install -U raga-testing-platform"
   ]
  },
  {
   "cell_type": "markdown",
   "metadata": {},
   "source": [
    "### Put your `ACCESS KEY & SECRET KEY`"
   ]
  },
  {
   "cell_type": "code",
   "execution_count": null,
   "metadata": {},
   "outputs": [],
   "source": [
    "# Define the access key, secret key, and host\n",
    "ACCESS_KEY = \"Paste_your_access_key_here\"\n",
    "SECRET_KEY = \"Paste_your_secret_key_here\"\n",
    "HOST = \"https://backend.satsure.staging.ragaai.ai\""
   ]
  },
  {
   "cell_type": "markdown",
   "metadata": {
    "id": "AbvYl1de9RRm"
   },
   "source": [
    "### Import All raga lib from raga module"
   ]
  },
  {
   "cell_type": "code",
   "execution_count": null,
   "metadata": {
    "executionInfo": {
     "elapsed": 536,
     "status": "ok",
     "timestamp": 1691405595735,
     "user": {
      "displayName": "Jigar Gupta",
      "userId": "00208144866133401220"
     },
     "user_tz": -330
    },
    "id": "LiD0Z4NSjQln"
   },
   "outputs": [],
   "source": [
    "from raga import *\n",
    "import datetime"
   ]
  },
  {
   "cell_type": "markdown",
   "metadata": {
    "id": "opiMOa6c9v-T"
   },
   "source": [
    "### 🪄 Set up a Run"
   ]
  },
  {
   "cell_type": "code",
   "execution_count": null,
   "metadata": {
    "colab": {
     "base_uri": "https://localhost:8080/"
    },
    "executionInfo": {
     "elapsed": 961,
     "status": "ok",
     "timestamp": 1691405616362,
     "user": {
      "displayName": "Jigar Gupta",
      "userId": "00208144866133401220"
     },
     "user_tz": -330
    },
    "id": "5ZZzWR3zkncE",
    "outputId": "e9cee100-321c-49ba-839d-741a21599d06"
   },
   "outputs": [],
   "source": [
    "project_name = \"OCR\"\n",
    "run_name = f\"Demo-Run-{datetime.datetime.now().strftime('%Y%m%d%H%M%S')}\"\n",
    "test_session = TestSession(project_name=project_name,run_name=run_name, access_key=ACCESS_KEY, secret_key=SECRET_KEY, host=HOST)"
   ]
  },
  {
   "cell_type": "markdown",
   "source": [
    "### 👟 Run OCR Missing Values test "
   ],
   "metadata": {
    "collapsed": false
   }
  },
  {
   "cell_type": "code",
   "execution_count": null,
   "metadata": {
    "executionInfo": {
     "elapsed": 4,
     "status": "ok",
     "timestamp": 1691405789176,
     "user": {
      "displayName": "Jigar Gupta",
      "userId": "00208144866133401220"
     },
     "user_tz": -330
    },
    "id": "QtY8R1h87Doq"
   },
   "outputs": [],
   "source": [
    "rules = OcrRules()\n",
    "rules.add(expected_detection={\"merchant_name\": 1,\"date\": 1,\"total\":1})\n",
    "\n",
    "edge_case_detection = ocr_missing_test_analysis(test_session=test_session,\n",
    "                                                dataset_name = \"nano_net_dataset_17_nov_v5\",\n",
    "                                                test_name = \"ocr_missing_value\",\n",
    "                                                model = \"nanonet_model\",\n",
    "                                                type = \"ocr\",\n",
    "                                                output_type=\"missing_value\",\n",
    "                                                rules = rules)\n",
    "\n",
    "\n",
    "test_session.add(edge_case_detection)\n",
    "\n",
    "test_session.run()"
   ]
  },
  {
   "cell_type": "markdown",
   "metadata": {},
   "source": [
    "### 👟 Run OCR Outlier Detection test"
   ]
  },
  {
   "cell_type": "code",
   "execution_count": null,
   "metadata": {},
   "outputs": [],
   "source": [
    "rules = OcrAnomalyRules()\n",
    "rules.add(type=\"anomaly_detection\", dist_metric=\"DistanceMetric\", threshold=0.2)\n",
    "\n",
    "\n",
    "edge_case_detection = ocr_anomaly_test_analysis(test_session=test_session,\n",
    "                                                dataset_name = \"nano_net_dataset_17_nov_v6\",\n",
    "                                                test_name = \"ocr_anomaly_detection\",\n",
    "                                                model = \"nanonet_model\",\n",
    "                                                type = \"ocr\",\n",
    "                                                output_type=\"anomaly_detection\",\n",
    "                                                rules = rules)\n",
    "\n",
    "test_session.add(edge_case_detection)\n",
    "\n",
    "test_session.run()"
   ]
  },
  {
   "cell_type": "markdown",
   "metadata": {},
   "source": [
    "Please switch to http://13.126.220.245:3000/projects"
   ]
  },
  {
   "cell_type": "markdown",
   "metadata": {},
   "source": []
  }
 ],
 "metadata": {
  "colab": {
   "provenance": [
    {
     "file_id": "1bIV1B75MjPD9QYqjV0rZxniDLx-d7pT_",
     "timestamp": 1690810321558
    },
    {
     "file_id": "1A7QArQeJPoxaq7MHx5LBGeaBbbcu6cFm",
     "timestamp": 1690810096548
    }
   ]
  },
  "kernelspec": {
   "display_name": "Python 3",
   "name": "python3"
  },
  "language_info": {
   "codemirror_mode": {
    "name": "ipython",
    "version": 3
   },
   "file_extension": ".py",
   "mimetype": "text/x-python",
   "name": "python",
   "nbconvert_exporter": "python",
   "pygments_lexer": "ipython3",
   "version": "3.9.6"
  }
 },
 "nbformat": 4,
 "nbformat_minor": 0
}
