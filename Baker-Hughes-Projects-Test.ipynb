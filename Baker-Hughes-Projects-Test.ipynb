{
  "cells": [
    {
      "cell_type": "markdown",
      "metadata": {
        "id": "3Mes14OE_FKe"
      },
      "source": [
        "## 🪄 Install `raga-testing-platform` library\n"
      ]
    },
    {
      "cell_type": "code",
      "execution_count": null,
      "metadata": {
        "colab": {
          "base_uri": "https://localhost:8080/",
          "height": 1000
        },
        "id": "Rwn6MxYLjHlv",
        "outputId": "434d6d5e-696c-4aa2-c1d2-abf776fbf76e"
      },
      "outputs": [],
      "source": [
        "pip install --index-url https://test.pypi.org/simple/ --extra-index-url https://pypi.org/simple raga-testing-platform==1.1.55"
      ]
    },
    {
      "cell_type": "markdown",
      "metadata": {
        "id": "kXuarIMr18wU"
      },
      "source": [
        "### Put your `ACCESS KEY & SECRET KEY`\n",
        "\n",
        "---\n"
      ]
    },
    {
      "cell_type": "code",
      "execution_count": null,
      "metadata": {
        "id": "E1zCUY2j18wU"
      },
      "outputs": [],
      "source": [
        "# Define the access key, secret key, and host\n",
        "ACCESS_KEY = \"Paste secret key\"\n",
        "SECRET_KEY = \"Paste access key\"\n",
        "HOST = \"https://backend.platform.raga.ai\""
      ]
    },
    {
      "cell_type": "markdown",
      "metadata": {
        "id": "AbvYl1de9RRm"
      },
      "source": [
        "### Import All raga lib from raga module\n"
      ]
    },
    {
      "cell_type": "code",
      "execution_count": null,
      "metadata": {
        "id": "LiD0Z4NSjQln"
      },
      "outputs": [],
      "source": [
        "from raga import *\n",
        "import datetime"
      ]
    },
    {
      "cell_type": "markdown",
      "metadata": {
        "id": "opiMOa6c9v-T"
      },
      "source": [
        "### 🪄 Set up a Run\n"
      ]
    },
    {
      "cell_type": "code",
      "execution_count": null,
      "metadata": {
        "id": "5ZZzWR3zkncE"
      },
      "outputs": [],
      "source": [
        "run_name = \"Defect_Detection_Tests\""
      ]
    },
    {
      "cell_type": "markdown",
      "metadata": {
        "id": "qaUswV7m-hPt"
      },
      "source": [
        "### 👟 Run Data Drift Detection Test\n"
      ]
    },
    {
      "cell_type": "code",
      "execution_count": null,
      "metadata": {
        "colab": {
          "base_uri": "https://localhost:8080/"
        },
        "id": "QtY8R1h87Doq",
        "outputId": "fb743b43-ac4a-439e-b992-7f787c24a5d4"
      },
      "outputs": [],
      "source": [
        "test_session = TestSession(\n",
        "    project_name=\"Defect Detection\",\n",
        "    run_name=run_name,\n",
        "    access_key=ACCESS_KEY,\n",
        "    secret_key=SECRET_KEY,\n",
        "    host=HOST\n",
        ")\n",
        "\n",
        "train_dataset_name = \"screw_train_original1\"\n",
        "test_dataset_name = \"screw_train_original_bg\"\n",
        "\n",
        "rules = DriftDetectionRules()\n",
        "threshold = 30\n",
        "rules.add(type=\"single_class_anomaly_detection\", dist_metric=\"Mahalanobis\", _class=\"ALL\", threshold=threshold)\n",
        "\n",
        "#To Run OD Test\n",
        "edge_case_detection = data_drift_detection(test_session=test_session,\n",
        "                                           test_name=f\"baker_hughes_drift_v2\",\n",
        "                                           train_dataset_name=train_dataset_name,\n",
        "                                           field_dataset_name=test_dataset_name,\n",
        "                                           train_embed_col_name=\"ImageVectorsM1\",\n",
        "                                           field_embed_col_name = \"ImageVectorsM1\",\n",
        "                                           level = \"image\",\n",
        "                                           rules = rules)\n",
        "\n",
        "\n",
        "test_session.add(edge_case_detection)\n",
        "\n",
        "test_session.run()"
      ]
    },
    {
      "cell_type": "markdown",
      "metadata": {
        "id": "9eaReQ5g64DP"
      },
      "source": [
        "### Run Near Duplicates Test\n"
      ]
    },
    {
      "cell_type": "code",
      "execution_count": null,
      "metadata": {
        "colab": {
          "base_uri": "https://localhost:8080/"
        },
        "id": "V34YOTvY63tz",
        "outputId": "93cb7ffb-865f-430b-eafe-6dc1e7f3182f"
      },
      "outputs": [],
      "source": [
        "test_session = TestSession(\n",
        "    project_name=\"Defect Detection\",\n",
        "    run_name=run_name,\n",
        "    access_key=ACCESS_KEY,\n",
        "    secret_key=SECRET_KEY,\n",
        "    host=HOST\n",
        ")\n",
        "\n",
        "rules = LQRules()\n",
        "rules.add(metric=\"similarity_score\", metric_threshold=0.99995)\n",
        "\n",
        "\n",
        "train_dataset_name = \"pcb1_train_dataset_v1\"\n",
        "edge_case_detection = nearest_duplicate(test_session=test_session,\n",
        "                                          dataset_name = train_dataset_name,\n",
        "                                          test_name = \"Near-Duplicates-v1\",\n",
        "                                          type = \"near_duplicates\",\n",
        "                                          output_type=\"near_duplicates\",\n",
        "                                          embed_col_name=\"ImageEmbedding\",\n",
        "                                          rules=rules)\n",
        "\n",
        "test_session.add(edge_case_detection)\n",
        "\n",
        "test_session.run()"
      ]
    },
    {
      "cell_type": "markdown",
      "metadata": {
        "id": "KYiogWvA71FF"
      },
      "source": [
        "###Run Data Leakage Test\n"
      ]
    },
    {
      "cell_type": "code",
      "execution_count": null,
      "metadata": {
        "colab": {
          "base_uri": "https://localhost:8080/"
        },
        "id": "gysjqXKp7fD0",
        "outputId": "cb35948e-95e0-4335-effc-15ef7dad8359"
      },
      "outputs": [],
      "source": [
        "test_session = TestSession(\n",
        "    project_name=\"Defect Detection\",\n",
        "    run_name=run_name,\n",
        "    access_key=ACCESS_KEY,\n",
        "    secret_key=SECRET_KEY,\n",
        "    host=HOST\n",
        ")\n",
        "\n",
        "train_dataset_name_ = \"cable_train_dataset_v1\"\n",
        "dataset_name_ = \"cable_val_dataset_v1\"\n",
        "\n",
        "rules = LQRules()\n",
        "rules.add(metric = 'overlapping_samples', metric_threshold = 0.97)\n",
        "\n",
        "\n",
        "edge_case_detection = data_leakage_test(test_session=test_session,\n",
        "                                           test_name=\"dataleakage_baker_hughes_v2\",\n",
        "                                           train_dataset_name=train_dataset_name_,\n",
        "                                           dataset_name=dataset_name_,\n",
        "                                           type = \"data_leakage\",\n",
        "                                           output_type=\"image_data\",\n",
        "                                           train_embed_col_name=\"ImageEmbedding\",\n",
        "                                           embed_col_name = \"ImageEmbedding\",\n",
        "                                           rules = rules)\n",
        "\n",
        "test_session.add(edge_case_detection)\n",
        "\n",
        "test_session.run()"
      ]
    },
    {
      "cell_type": "markdown",
      "metadata": {
        "id": "Der38bQ6-g-x"
      },
      "source": [
        "### Run Labelling Quality Test\n"
      ]
    },
    {
      "cell_type": "code",
      "execution_count": null,
      "metadata": {
        "colab": {
          "base_uri": "https://localhost:8080/"
        },
        "id": "GVQyR-kK9gRd",
        "outputId": "68857804-f6d2-4830-fc50-2b6ee2c9414d"
      },
      "outputs": [],
      "source": [
        "test_session = TestSession(\n",
        "    project_name=\"Defect Detection\",\n",
        "    run_name=run_name,\n",
        "    access_key=ACCESS_KEY,\n",
        "    secret_key=SECRET_KEY,\n",
        "    host=HOST\n",
        ")\n",
        "\n",
        "dataset_name = \"mistake_score_cable_2\"\n",
        "\n",
        "rules = LQRules()\n",
        "rules.add(metric=\"mistake_score\", label=[\"ALL\"], metric_threshold=0.85)\n",
        "\n",
        "\n",
        "edge_case_detection = labelling_quality_test(test_session=test_session,\n",
        "                                            dataset_name = dataset_name,\n",
        "                                            test_name = \"Labeling Quality Test2\",\n",
        "                                            type = \"labelling_consistency\",\n",
        "                                            output_type=\"instance_segmentation\",\n",
        "                                            mistake_score_col_name = \"MistakeScores\",\n",
        "                                            gt=\"GT\",\n",
        "                                            model=\"GT\",\n",
        "                                            rules = rules)\n",
        "test_session.add(edge_case_detection)\n",
        "\n",
        "test_session.run()"
      ]
    },
    {
      "cell_type": "markdown",
      "metadata": {
        "id": "nyvZF0ED-nx_"
      },
      "source": [
        "### Run Scenario Imbalance Test\n"
      ]
    },
    {
      "cell_type": "code",
      "execution_count": null,
      "metadata": {
        "colab": {
          "base_uri": "https://localhost:8080/"
        },
        "id": "N1u-yx_7k5KC",
        "outputId": "dec60b0e-dfcb-4357-b36e-c7023d9d33a0"
      },
      "outputs": [],
      "source": [
        "test_session = TestSession(\n",
        "    project_name=\"Defect Detection\",\n",
        "    run_name=run_name,\n",
        "    access_key=ACCESS_KEY,\n",
        "    secret_key=SECRET_KEY,\n",
        "    host=HOST\n",
        ")\n",
        "\n",
        "augmented_dataset_name = \"screw_train_all_aug\"\n",
        "\n",
        "rules = SBRules()\n",
        "rules.add(metric=\"js_divergence\", ideal_distribution=\"uniform\", metric_threshold=0.1)\n",
        "rules.add(metric=\"chi_squared_test\", ideal_distribution=\"uniform\", metric_threshold=0.1)\n",
        "\n",
        "edge_case_detection = scenario_imbalance(test_session=test_session,\n",
        "                                            dataset_name = augmented_dataset_name,\n",
        "                                            test_name = \"Scenario_Imbalance4\",\n",
        "                                            type = \"scenario_imbalance\",\n",
        "                                            output_type=\"metadata\",\n",
        "                                            rules = rules,\n",
        "                                            aggregationLevels=[\"Augmentation\"]\n",
        "                                             )\n",
        "\n",
        "test_session.add(edge_case_detection)\n",
        "\n",
        "test_session.run()"
      ]
    },
    {
      "cell_type": "markdown",
      "metadata": {
        "id": "wF6bRXOx18wX"
      },
      "source": [
        "### Run Failure Mode Analysis Cluster Level\n"
      ]
    },
    {
      "cell_type": "code",
      "execution_count": null,
      "metadata": {
        "colab": {
          "base_uri": "https://localhost:8080/"
        },
        "id": "lZbAYxqI18wX",
        "outputId": "a7bf91ad-4dbb-400c-a513-eadd77544648"
      },
      "outputs": [],
      "source": [
        "test_session = TestSession(\n",
        "    project_name=\"Defect Detection\",\n",
        "    run_name=run_name,\n",
        "    access_key=ACCESS_KEY,\n",
        "    secret_key=SECRET_KEY,\n",
        "    host=HOST\n",
        ")\n",
        "\n",
        "augmented_dataset_name = \"cable_val_original\"\n",
        "\n",
        "rules = FMARules()\n",
        "rules.add(metric='F1Score',  metric_threshold=0.1, label='ALL', conf_threshold=0.1, iou_threshold=0.1)\n",
        "\n",
        "cls_default = clustering(test_session=test_session,\n",
        "                         dataset_name = augmented_dataset_name,\n",
        "                         method=\"k-means\",\n",
        "                         embedding_col=\"ImageVectorsM1\",\n",
        "                         level=\"image\",\n",
        "                         args= {\"numOfClusters\": 5},\n",
        "                         force=True)\n",
        "\n",
        "\n",
        "edge_case_detection = failure_mode_analysis(test_session=test_session,\n",
        "                                            dataset_name = augmented_dataset_name,\n",
        "                                            test_name = \"FMA_Clustering_2\",\n",
        "                                            model = \"yolov8\",\n",
        "                                            gt = \"GT\",\n",
        "                                            rules = rules,\n",
        "                                            output_type=\"instance_segmentation\",\n",
        "                                            type=\"fma\",\n",
        "                                            clustering=cls_default,\n",
        "                                            embedding_col_name=\"ImageVectorsM1\",\n",
        "                                            )\n",
        "\n",
        "test_session.add(edge_case_detection)\n",
        "\n",
        "test_session.run()"
      ]
    },
    {
      "cell_type": "code",
      "execution_count": null,
      "metadata": {
        "colab": {
          "base_uri": "https://localhost:8080/"
        },
        "id": "IYxo3jQ7wgLf",
        "outputId": "6da1089f-b38f-4412-f31b-66a32235c2ff"
      },
      "outputs": [],
      "source": [
        "test_session = TestSession(\n",
        "    project_name=\"Defect Detection\",\n",
        "    run_name=run_name,\n",
        "    access_key=ACCESS_KEY,\n",
        "    secret_key=SECRET_KEY,\n",
        "    host=HOST\n",
        ")\n",
        "\n",
        "augmented_dataset_name = \"screw_train_original_bg\"\n",
        "\n",
        "rules = FMARules()\n",
        "rules.add(metric='F1Score',  metric_threshold=0.4, label='ALL', conf_threshold=0.3, iou_threshold=0.3)\n",
        "rules.add(metric='Recall',  metric_threshold=0.4,  label='ALL', conf_threshold=0.3, iou_threshold=0.3)\n",
        "rules.add(metric='Precision',  metric_threshold=0.4, label='ALL', conf_threshold=0.3, iou_threshold=0.3)\n",
        "\n",
        "cls_default = clustering(test_session=test_session,\n",
        "                         dataset_name = augmented_dataset_name,\n",
        "                         method=\"k-means\",\n",
        "                         embedding_col=\"ImageVectorsM1\",\n",
        "                         level=\"image\",\n",
        "                         args= {\"numOfClusters\": 8},\n",
        "                         force=True)\n",
        "\n",
        "\n",
        "edge_case_detection = failure_mode_analysis(test_session=test_session,\n",
        "                                            dataset_name = augmented_dataset_name,\n",
        "                                            test_name = \"FMA_Clustering_3\",\n",
        "                                            model = \"yolov8\",\n",
        "                                            gt = \"GT\",\n",
        "                                            rules = rules,\n",
        "                                            output_type=\"instance_segmentation\",\n",
        "                                            type=\"fma\",\n",
        "                                            clustering=cls_default,\n",
        "                                            embedding_col_name=\"ImageVectorsM1\",\n",
        "                                            )\n",
        "\n",
        "test_session.add(edge_case_detection)\n",
        "\n",
        "test_session.run()"
      ]
    },
    {
      "cell_type": "markdown",
      "metadata": {
        "id": "VsMT6jt2WRGH"
      },
      "source": [
        "### Run Class Imbalance Test\n"
      ]
    },
    {
      "cell_type": "code",
      "execution_count": null,
      "metadata": {
        "colab": {
          "base_uri": "https://localhost:8080/"
        },
        "id": "ChyaTtGcB0MZ",
        "outputId": "240fa1b3-2581-4f79-f81e-81c424453802"
      },
      "outputs": [],
      "source": [
        "test_session = TestSession(\n",
        "    project_name=\"Defect Detection\",\n",
        "    run_name=run_name,\n",
        "    access_key=ACCESS_KEY,\n",
        "    secret_key=SECRET_KEY,\n",
        "    host=HOST\n",
        ")\n",
        "\n",
        "rules = ClassImbalanceRules()\n",
        "rules.add(metric=\"js_divergence\", ideal_distribution=\"uniform\", metric_threshold=0.10, label=\"ALL\")\n",
        "rules.add(metric=\"chi_squared_test\", ideal_distribution=\"uniform\", metric_threshold=0.10, label=\"ALL\")\n",
        "\n",
        "dataset_name = \"pcb_1_train_original\"\n",
        "distribution_test = class_imbalance_test(test_session=test_session,\n",
        "                                         dataset_name=dataset_name,\n",
        "                                         test_name=\"Class Imbalance Test3\",\n",
        "                                         type=\"class_imbalance\",\n",
        "                                         output_type=\"instance_segmentation\",\n",
        "                                         annotation_column_name=\"AnnotationsV1\",\n",
        "                                         rules=rules)\n",
        "\n",
        "test_session.add(distribution_test)\n",
        "test_session.run()"
      ]
    }
  ],
  "metadata": {
    "colab": {
      "provenance": []
    },
    "kernelspec": {
      "display_name": "Python 3",
      "name": "python3"
    },
    "language_info": {
      "codemirror_mode": {
        "name": "ipython",
        "version": 3
      },
      "file_extension": ".py",
      "mimetype": "text/x-python",
      "name": "python",
      "nbconvert_exporter": "python",
      "pygments_lexer": "ipython3",
      "version": "3.9.6"
    }
  },
  "nbformat": 4,
  "nbformat_minor": 0
}
