{
  "cells": [
    {
      "cell_type": "markdown",
      "metadata": {
        "id": "AsHqbEo0ldgZ"
      },
      "source": [
        "## 🪄 Install `raga-testing-platform` library\n"
      ]
    },
    {
      "cell_type": "code",
      "execution_count": null,
      "metadata": {
        "colab": {
          "base_uri": "https://localhost:8080/",
          "height": 1000
        },
        "collapsed": true,
        "id": "mptHVuOXldge",
        "outputId": "6be4bdc2-f640-4a84-e7f1-d464f6c3347c",
        "vscode": {
          "languageId": "plaintext"
        }
      },
      "outputs": [],
      "source": [
        "pip install --index-url https://test.pypi.org/simple/ --extra-index-url https://pypi.org/simple raga-testing-platform==1.2.3"
      ]
    },
    {
      "cell_type": "markdown",
      "metadata": {
        "id": "-MqvpwqSldgg"
      },
      "source": [
        "### Put your `ACCESS KEY & SECRET KEY`\n"
      ]
    },
    {
      "cell_type": "code",
      "execution_count": null,
      "metadata": {
        "id": "nX8PY6OOldgg"
      },
      "outputs": [],
      "source": [
        "# Define the access key, secret key, and host\n",
        "ACCESS_KEY = \"paste_your_access_key\"\n",
        "SECRET_KEY = \"paste_your_secret_key\"\n",
        "HOST = \"https://backend.platform.raga.ai\""
      ]
    },
    {
      "cell_type": "markdown",
      "metadata": {
        "id": "SOPfGqW7ldgh"
      },
      "source": [
        "### Import All raga lib from raga module\n"
      ]
    },
    {
      "cell_type": "code",
      "execution_count": null,
      "metadata": {
        "id": "GO827YR-ldgh"
      },
      "outputs": [],
      "source": [
        "from raga import *\n",
        "import datetime"
      ]
    },
    {
      "cell_type": "markdown",
      "metadata": {
        "id": "R0ficl0sDVuy"
      },
      "source": [
        "#**Image Recognition**\n",
        "\n",
        "---\n"
      ]
    },
    {
      "cell_type": "markdown",
      "metadata": {
        "id": "Fpo6WmgOldgh"
      },
      "source": [
        "### 🪄 Set up a Run\n"
      ]
    },
    {
      "cell_type": "code",
      "execution_count": null,
      "metadata": {
        "id": "ul7jkrCCldgi"
      },
      "outputs": [],
      "source": [
        "run_name = \"Image recognition test\""
      ]
    },
    {
      "cell_type": "markdown",
      "metadata": {
        "id": "Zxzm7eKbldgk"
      },
      "source": [
        "### Active Learning Test\n"
      ]
    },
    {
      "cell_type": "code",
      "execution_count": null,
      "metadata": {
        "collapsed": true,
        "id": "cXRzPXgxldgk"
      },
      "outputs": [],
      "source": [
        "dataset_name = \"image_classification_train\"\n",
        "budget = 6000\n",
        "\n",
        "test_session = TestSession(\n",
        "    project_name=\"Continental-Projects\",\n",
        "    run_name=run_name,\n",
        "    access_key=ACCESS_KEY,\n",
        "    secret_key=SECRET_KEY,\n",
        "    host=HOST\n",
        ")\n",
        "\n",
        "edge_case_detection = active_learning(test_session=test_session,\n",
        "                                      dataset_name = dataset_name,\n",
        "                                      test_name = \"active_learniing1\",\n",
        "                                      type = \"active_learning\",\n",
        "                                      output_type=\"curated_dataset\",\n",
        "                                      embed_col_name=\"ImageVectorsM1\",\n",
        "                                      budget=budget)\n",
        "\n",
        "test_session.add(edge_case_detection)\n",
        "\n",
        "test_session.run()"
      ]
    },
    {
      "cell_type": "markdown",
      "metadata": {
        "id": "9DrP4RDLfjOn"
      },
      "source": [
        "### Data Drift Test\n"
      ]
    },
    {
      "cell_type": "code",
      "execution_count": null,
      "metadata": {
        "id": "YqOZJcTmfi9e"
      },
      "outputs": [],
      "source": [
        "reference_dataset_name = \"image_classification_train\"\n",
        "eval_dataset_name = \"image_classification_test\"\n",
        "threshold = 79\n",
        "\n",
        "test_session = TestSession(\n",
        "    project_name=\"Continental-Projects\",\n",
        "    run_name=run_name,\n",
        "    access_key=ACCESS_KEY,\n",
        "    secret_key=SECRET_KEY,\n",
        "    host=HOST\n",
        ")\n",
        "\n",
        "rules = DriftDetectionRules()\n",
        "rules.add(type=\"single_class_anomaly_detection\", dist_metric=\"Mahalanobis\", _class=\"ALL\", threshold=threshold)\n",
        "\n",
        "#To Run OD Test\n",
        "edge_case_detection = data_drift_detection(test_session=test_session,\n",
        "                                           test_name=\"drift_test3\",\n",
        "                                           train_dataset_name=reference_dataset_name,\n",
        "                                           field_dataset_name=eval_dataset_name,\n",
        "                                           train_embed_col_name=\"ImageVectorsM1\",\n",
        "                                           field_embed_col_name = \"ImageVectorsM1\",\n",
        "                                           level = \"image\",\n",
        "                                           rules = rules)\n",
        "\n",
        "\n",
        "test_session.add(edge_case_detection)\n",
        "\n",
        "test_session.run()"
      ]
    },
    {
      "cell_type": "markdown",
      "metadata": {
        "id": "RD7C7PUUldgl"
      },
      "source": [
        "### Class Imbalance Test\n"
      ]
    },
    {
      "cell_type": "code",
      "execution_count": null,
      "metadata": {
        "id": "WkcQ0sfkldgl"
      },
      "outputs": [],
      "source": [
        "dataset_name = \"image_classification_train\"\n",
        "metric_threshold = 0.99\n",
        "rules = ClassImbalanceRules()\n",
        "\n",
        "rules.add(metric=\"js_divergence\", ideal_distribution=\"uniform\", metric_threshold=metric_threshold, label=\"ALL\")\n",
        "rules.add(metric=\"chi_squared_test\", ideal_distribution=\"uniform\", metric_threshold=metric_threshold, label=\"ALL\")\n",
        "\n",
        "\n",
        "test_session = TestSession(\n",
        "    project_name=\"Continental-Projects\",\n",
        "    run_name=run_name,\n",
        "    access_key=ACCESS_KEY,\n",
        "    secret_key=SECRET_KEY,\n",
        "    host=HOST\n",
        ")\n",
        "\n",
        "distribution_test = class_imbalance_test(test_session=test_session,\n",
        "                                         dataset_name=dataset_name,\n",
        "                                         test_name=\"Class Imbalance Test\",\n",
        "                                         type=\"class_imbalance\",\n",
        "                                         output_type=\"image_classification\", #\"object_detection\",\n",
        "                                         annotation_column_name=\"GroundTruth\",\n",
        "                                         rules=rules)\n",
        "\n",
        "test_session.add(distribution_test)\n",
        "test_session.run()"
      ]
    },
    {
      "cell_type": "markdown",
      "metadata": {
        "id": "4vNNh2vtuG86"
      },
      "source": [
        "###Near Duplicates Test\n"
      ]
    },
    {
      "cell_type": "code",
      "execution_count": null,
      "metadata": {
        "id": "hyZxAS6FuGvU"
      },
      "outputs": [],
      "source": [
        "dataset_name = \"image_classification_train\"\n",
        "metric_threshold = 0.99\n",
        "\n",
        "test_session = TestSession(\n",
        "    project_name=\"Continental-Projects\",\n",
        "    run_name=run_name,\n",
        "    access_key=ACCESS_KEY,\n",
        "    secret_key=SECRET_KEY,\n",
        "    host=HOST\n",
        ")\n",
        "\n",
        "rules = LQRules()\n",
        "rules.add(metric=\"similarity_score\", metric_threshold=metric_threshold)\n",
        "\n",
        "\n",
        "\n",
        "edge_case_detection = nearest_duplicate(test_session=test_session,\n",
        "                                          dataset_name = dataset_name,\n",
        "                                          test_name = \"Near-Duplicates-v4\",\n",
        "                                          type = \"near_duplicates\",\n",
        "                                          output_type=\"near_duplicates\",\n",
        "                                          embed_col_name=\"ImageVectorsM1\",\n",
        "                                          rules=rules)\n",
        "\n",
        "test_session.add(edge_case_detection)\n",
        "\n",
        "test_session.run()"
      ]
    },
    {
      "cell_type": "markdown",
      "metadata": {
        "id": "GVAn448WtLvn"
      },
      "source": [
        "### Outlier Detection Test\n"
      ]
    },
    {
      "cell_type": "code",
      "execution_count": null,
      "metadata": {
        "id": "fFffljMAtLgO"
      },
      "outputs": [],
      "source": [
        "threshold=60\n",
        "dataset_name = \"after_activelearning_dataset\"\n",
        "\n",
        "test_session = TestSession(\n",
        "    project_name=\"Continental-Projects\",\n",
        "    run_name=run_name,\n",
        "    access_key=ACCESS_KEY,\n",
        "    secret_key=SECRET_KEY,\n",
        "    host=HOST\n",
        ")\n",
        "\n",
        "rules = DriftDetectionRules()\n",
        "rules.add(type=\"anomaly_detection\", dist_metric=\"Mahalanobis\", _class=\"ALL\", threshold=threshold)\n",
        "edge_case_detection = data_drift_detection(test_session=test_session,\n",
        "                                           test_name=\"Outlier-detection-train-after_active_learning\",\n",
        "                                           dataset_name=dataset_name,\n",
        "                                           embed_col_name = \"ImageVectorsM1\",\n",
        "                                        #    output_type = \"image_classification\",\n",
        "                                           output_type = \"outlier_detection\",\n",
        "                                           rules = rules)\n",
        "test_session.add(edge_case_detection)\n",
        "\n",
        "test_session.run()"
      ]
    },
    {
      "cell_type": "markdown",
      "metadata": {
        "id": "MseyvRXtgR_H"
      },
      "source": [
        "###Data Leakage Test\n"
      ]
    },
    {
      "cell_type": "code",
      "execution_count": null,
      "metadata": {
        "id": "BkpSSFx0gRwd"
      },
      "outputs": [],
      "source": [
        "reference_dataset_name = \"image_classification_train\"\n",
        "eval_dataset_name = \"image_classification_test\"\n",
        "\n",
        "metric_threshold = 0.9\n",
        "\n",
        "test_session = TestSession(\n",
        "    project_name=\"Continental-Projects\",\n",
        "    run_name=run_name,\n",
        "    access_key=ACCESS_KEY,\n",
        "    secret_key=SECRET_KEY,\n",
        "    host=HOST\n",
        ")\n",
        "\n",
        "rules = LQRules()\n",
        "rules.add(metric = 'overlapping_samples', metric_threshold = metric_threshold)\n",
        "\n",
        "\n",
        "edge_case_detection = data_leakage_test(test_session=test_session,\n",
        "                                           test_name=\"dataleakage1\",\n",
        "                                           train_dataset_name=reference_dataset_name,\n",
        "                                           dataset_name=eval_dataset_name,\n",
        "                                           type = \"data_leakage\",\n",
        "                                           output_type=\"image_data\",\n",
        "                                           train_embed_col_name=\"ImageVectorsM1\",\n",
        "                                           embed_col_name = \"ImageVectorsM1\",\n",
        "                                           rules = rules)\n",
        "\n",
        "test_session.add(edge_case_detection)\n",
        "\n",
        "test_session.run()"
      ]
    },
    {
      "cell_type": "markdown",
      "metadata": {
        "id": "5IrrwMUhldgp"
      },
      "source": [
        "### Labeling Quality Test\n"
      ]
    },
    {
      "cell_type": "code",
      "execution_count": null,
      "metadata": {
        "id": "YxhJnOcJldgp"
      },
      "outputs": [],
      "source": [
        "dataset_name = 'image_classification_lqc_test_after_deduplication'\n",
        "metric_threshold = 0.321\n",
        "\n",
        "\n",
        "test_session = TestSession(\n",
        "    project_name=\"Continental-Projects\",\n",
        "    run_name=run_name,\n",
        "    access_key=ACCESS_KEY,\n",
        "    secret_key=SECRET_KEY,\n",
        "    host=HOST\n",
        ")\n",
        "\n",
        "\n",
        "rules = LQRules()\n",
        "rules.add(metric=\"mistake_score\", label=[\"ALL\"], metric_threshold=metric_threshold)\n",
        "edge_case_detection = labelling_quality_test(\n",
        "    test_session=test_session,\n",
        "    dataset_name=dataset_name,\n",
        "    test_name=\"IC- Labeling Quality Test\",\n",
        "    type=\"labelling_consistency\",\n",
        "    output_type=\"image_classification\",\n",
        "    mistake_score_col_name=\"MistakeScore\",\n",
        "    embedding_col_name=\"ImageVectorsM1\",\n",
        "    rules=rules,\n",
        ")\n",
        "\n",
        "test_session.add(edge_case_detection)\n",
        "test_session.run()"
      ]
    },
    {
      "cell_type": "markdown",
      "metadata": {
        "id": "56LQV5UAp3Uz"
      },
      "source": [
        "###Image Property Drift Test\n"
      ]
    },
    {
      "cell_type": "code",
      "execution_count": null,
      "metadata": {
        "id": "uTqHSw-Ep3DX"
      },
      "outputs": [],
      "source": [
        "reference_dataset_name = \"image_classification_train\"\n",
        "eval_dataset_name = \"image_classification_test\"\n",
        "\n",
        "test_session = TestSession(\n",
        "    project_name=\"Continental-Projects\",\n",
        "    run_name=run_name,\n",
        "    access_key=ACCESS_KEY,\n",
        "    secret_key=SECRET_KEY,\n",
        "    host=HOST\n",
        ")\n",
        "\n",
        "\n",
        "rules = IPDRules()\n",
        "rules.add(metric=\"image-property-suite\")\n",
        "\n",
        "edge_case_detection = image_property_drift(test_session=test_session,\n",
        "                                           reference_dataset_name=reference_dataset_name,\n",
        "                                           eval_dataset_name=eval_dataset_name,\n",
        "                                           rules=rules,\n",
        "                                           test_name=\"Image-Property-Drift\",\n",
        "                                           type=\"image-property-drift\",\n",
        "                                           output_type=\"image-data\"\n",
        "                                           )\n",
        "test_session.add(edge_case_detection)\n",
        "\n",
        "test_session.run()"
      ]
    },
    {
      "cell_type": "markdown",
      "metadata": {
        "id": "t5p9UTO8DuRa"
      },
      "source": [
        "#**Image Detection**\n"
      ]
    },
    {
      "cell_type": "markdown",
      "metadata": {
        "id": "MudhhNDPEJ9g"
      },
      "source": [
        "### 🪄 Set up a Run\n"
      ]
    },
    {
      "cell_type": "code",
      "execution_count": null,
      "metadata": {
        "id": "FFNd1va_Dxyj"
      },
      "outputs": [],
      "source": [
        "run_name = \"Image detection test\""
      ]
    },
    {
      "cell_type": "markdown",
      "metadata": {
        "id": "sTtCTmoqENYm"
      },
      "source": [
        "### Active Learning Test\n"
      ]
    },
    {
      "cell_type": "code",
      "execution_count": null,
      "metadata": {
        "id": "6Frxj2dZEQaR"
      },
      "outputs": [],
      "source": [
        "dataset_name = \"object_detection_al_lq_v2\"\n",
        "budget = 6000\n",
        "\n",
        "test_session = TestSession(\n",
        "    project_name=\"Continental-Projects\",\n",
        "    run_name=run_name,\n",
        "    access_key=ACCESS_KEY,\n",
        "    secret_key=SECRET_KEY,\n",
        "    host=HOST\n",
        ")\n",
        "\n",
        "\n",
        "\n",
        "edge_case_detection = active_learning(test_session=test_session,\n",
        "                                      dataset_name = dataset_name,\n",
        "                                      test_name = \"active-learning-test-2\",\n",
        "                                      type = \"active_learning\",\n",
        "                                      output_type=\"curated_dataset\",\n",
        "                                      embed_col_name=\"ImageVectorsM1\",\n",
        "                                      budget=budget)\n",
        "\n",
        "test_session.add(edge_case_detection)\n",
        "\n",
        "test_session.run()"
      ]
    },
    {
      "cell_type": "markdown",
      "metadata": {
        "id": "TTj5Xh0_ETWC"
      },
      "source": [
        "### Data Drift Test\n"
      ]
    },
    {
      "cell_type": "code",
      "execution_count": null,
      "metadata": {
        "id": "C5yxXLpXEW7K"
      },
      "outputs": [],
      "source": [
        "train_dataset_name = \"od_train_after_deduplication\"\n",
        "field_dataset_name = \"od_test_after_deduplication\"\n",
        "threshold=200\n",
        "\n",
        "# create test_session object of TestSession instance\n",
        "test_session = TestSession(\n",
        "    project_name=\"Continental-Projects\",\n",
        "    run_name=run_name,\n",
        "    access_key=ACCESS_KEY,\n",
        "    secret_key=SECRET_KEY,\n",
        "    host=HOST\n",
        ")\n",
        "\n",
        "rules = DriftDetectionRules()\n",
        "rules.add(type=\"single_class_anomaly_detection\", dist_metric=\"Mahalanobis\", _class=\"ALL\", threshold=threshold)\n",
        "\n",
        "#To Run OD Test\n",
        "edge_case_detection = data_drift_detection(test_session=test_session,\n",
        "                                           test_name=\"drift-test-1\",\n",
        "                                           train_dataset_name=train_dataset_name,\n",
        "                                           field_dataset_name=field_dataset_name,\n",
        "                                           train_embed_col_name=\"ImageVectorsM1\",\n",
        "                                           field_embed_col_name = \"ImageVectorsM1\",\n",
        "                                           level = \"image\",\n",
        "                                           rules = rules)\n",
        "\n",
        "\n",
        "test_session.add(edge_case_detection)\n",
        "\n",
        "test_session.run()"
      ]
    },
    {
      "cell_type": "markdown",
      "metadata": {
        "id": "ucZKALVBEdy0"
      },
      "source": [
        "### Model A/B Test\n"
      ]
    },
    {
      "cell_type": "code",
      "execution_count": null,
      "metadata": {
        "id": "zQ3CH9syEZ-v"
      },
      "outputs": [],
      "source": [
        "test_session = TestSession(\n",
        "    project_name=\"Continental-Projects\",\n",
        "    run_name=run_name,\n",
        "    access_key=ACCESS_KEY,\n",
        "    secret_key=SECRET_KEY,\n",
        "    host=HOST\n",
        ")\n",
        "\n",
        "\n",
        "rules = MCTRules()\n",
        "\n",
        "rules.add(metric='F1Score',\n",
        "          metric_threshold=0.6,\n",
        "          conf_threshold=0.1,\n",
        "          iou_threshold=0.2,\n",
        "          differenceThreshold=45,\n",
        "          clazz=[\"ALL\"])\n",
        "\n",
        "dataset_name = \"ab_test_object_detection_v0\"\n",
        "\n",
        "cls_default = clustering(test_session=test_session,\n",
        "                         dataset_name=dataset_name,\n",
        "                         method=\"k-means\",\n",
        "                         embedding_col=\"ImageVectorsM1\",\n",
        "                         level=\"image\",\n",
        "                         args={\"numOfClusters\": 5}\n",
        "                         )\n",
        "\n",
        "edge_case_detection = ab_test(test_session=test_session,\n",
        "                              dataset_name=dataset_name,\n",
        "                              test_name=\"ab_od_14121423\",\n",
        "                              modelAColumnName=\"Continental_Model\",\n",
        "                              modelBColumnName=\"YOLO_Model\",\n",
        "                              gtColumnName=\"AnnotationsV1\",\n",
        "                              rules=rules,\n",
        "                              outputType=\"labelled-od-cluster\",\n",
        "                              type=\"ab\",\n",
        "                              clustering=cls_default,\n",
        "                              embeddingColumnName=\"ImageVectorsM1\",\n",
        "                            #   aggregation_levels=[\"Reflection\",\n",
        "                            #                       \"CameraAngle\",\n",
        "                            #                       \"Overlap\"]\n",
        "                              )\n",
        "\n",
        "test_session.add(edge_case_detection)\n",
        "\n",
        "test_session.run()"
      ]
    },
    {
      "cell_type": "markdown",
      "metadata": {
        "id": "PCX2I3GTElJh"
      },
      "source": [
        "### Outlier Detection Test\n"
      ]
    },
    {
      "cell_type": "code",
      "execution_count": null,
      "metadata": {
        "id": "ykfVghb9Ek8V"
      },
      "outputs": [],
      "source": [
        "dataset_name = \"roi_train_traffic_sign_detection_complete\"\n",
        "threshold=40\n",
        "\n",
        "# create test_session object of TestSession instance\n",
        "test_session = TestSession(\n",
        "    project_name=\"Continental-Projects\",\n",
        "    run_name=run_name,\n",
        "    access_key=ACCESS_KEY,\n",
        "    secret_key=SECRET_KEY,\n",
        "    host=HOST\n",
        ")\n",
        "\n",
        "rules = DriftDetectionRules()\n",
        "rules.add(type=\"anomaly_detection\", dist_metric=\"Mahalanobis\", _class=\"ALL\", threshold=threshold)\n",
        "edge_case_detection = data_drift_detection(test_session=test_session,\n",
        "                                           test_name=f\"Outlier_Detection- train data for bbox\",\n",
        "                                           dataset_name=dataset_name,\n",
        "                                           embed_col_name = \"ImageVectorsM1\",\n",
        "                                           output_type = \"outlier_detection\",\n",
        "                                           rules = rules)\n",
        "test_session.add(edge_case_detection)\n",
        "\n",
        "test_session.run()"
      ]
    },
    {
      "cell_type": "markdown",
      "metadata": {
        "id": "C8St3-ICErPa"
      },
      "source": [
        "###Outlier Detection (Depth Level)\n"
      ]
    },
    {
      "cell_type": "code",
      "execution_count": null,
      "metadata": {
        "id": "QGz7t-zTEvBf"
      },
      "outputs": [],
      "source": [
        "dataset_name = \"roi_train_outlier_df_depth_level2\"\n",
        "threshold=52\n",
        "\n",
        "# create test_session object of TestSession instance\n",
        "test_session = TestSession(\n",
        "    project_name=\"Continental-Projects\",\n",
        "    run_name=run_name,\n",
        "    access_key=ACCESS_KEY,\n",
        "    secret_key=SECRET_KEY,\n",
        "    host=HOST\n",
        ")\n",
        "\n",
        "rules = DriftDetectionRules()\n",
        "rules.add(type=\"anomaly_detection\", dist_metric=\"Mahalanobis\", _class=\"ALL\", threshold=threshold)\n",
        "edge_case_detection = data_drift_detection(test_session=test_session,\n",
        "                                           test_name=f\"Outlier_Detection- train data for bbox at depth level 2\",\n",
        "                                           dataset_name=dataset_name,\n",
        "                                           embed_col_name = \"ImageVectorsM1\",\n",
        "                                           output_type = \"outlier_detection\",\n",
        "                                           rules = rules)\n",
        "test_session.add(edge_case_detection)\n",
        "\n",
        "test_session.run()"
      ]
    },
    {
      "cell_type": "markdown",
      "metadata": {
        "id": "5ApcZm7kE1Tb"
      },
      "source": [
        "### Failure Mode Analysis - Clustering\n"
      ]
    },
    {
      "cell_type": "code",
      "execution_count": null,
      "metadata": {
        "id": "sD8U8xr0E3-u"
      },
      "outputs": [],
      "source": [
        "dataset_name = \"object_detection_fma\"\n",
        "numOfClusters = 15\n",
        "conf_threshold = 0.1\n",
        "iou_threshold = 0.5\n",
        "run_name = \"Image detection test\"\n",
        "\n",
        "test_session = TestSession(\n",
        "    project_name=\"Continental-Projects\",\n",
        "    run_name=run_name,\n",
        "    access_key=ACCESS_KEY,\n",
        "    secret_key=SECRET_KEY,\n",
        "    host=HOST\n",
        ")\n",
        "\n",
        "\n",
        "rules = FMARules()\n",
        "rules.add(metric=\"Precision\", conf_threshold=conf_threshold, metric_threshold=0.75, iou_threshold=iou_threshold, label=\"ALL\")\n",
        "rules.add(metric=\"F1Score\", conf_threshold=conf_threshold, metric_threshold=0.75, iou_threshold=iou_threshold, label=\"ALL\")\n",
        "rules.add(metric=\"Recall\", conf_threshold=conf_threshold, metric_threshold=0.75, iou_threshold=iou_threshold, label=\"ALL\")\n",
        "\n",
        "cls_default = clustering(test_session=test_session,\n",
        "                         dataset_name = dataset_name,\n",
        "                         method=\"k-means\",\n",
        "                         embedding_col=\"ImageVectorsM1\",\n",
        "                         level=\"image\",\n",
        "                         args= {\"numOfClusters\": numOfClusters},\n",
        "                         force=True)\n",
        "\n",
        "edge_case_detection = failure_mode_analysis(test_session=test_session,\n",
        "dataset_name = dataset_name,\n",
        "test_name = f\"FMA-test-1\",\n",
        "model = \"ModelA\",\n",
        "gt = \"GT\",\n",
        "rules = rules,\n",
        "output_type=\"object_detection\",\n",
        "type=\"embedding\",\n",
        "clustering=cls_default)\n",
        "\n",
        "test_session.add(edge_case_detection)\n",
        "test_session.run()"
      ]
    },
    {
      "cell_type": "markdown",
      "metadata": {
        "id": "OnS_fEuwE6lI"
      },
      "source": [
        "### Failure Mode Analysis - Metadata Test\n"
      ]
    },
    {
      "cell_type": "code",
      "execution_count": null,
      "metadata": {
        "id": "BgZyYXqRE6TD"
      },
      "outputs": [],
      "source": [
        "dataset_name = \"object_detection_fma\"\n",
        "\n",
        "test_session = TestSession(\n",
        "    project_name=\"Continental-Projects\",\n",
        "    run_name=run_name,\n",
        "    access_key=ACCESS_KEY,\n",
        "    secret_key=SECRET_KEY,\n",
        "    host=HOST\n",
        ")\n",
        "\n",
        "rules = FMARules()\n",
        "rules.add(metric=\"Precision\", conf_threshold=0.1, metric_threshold=0.7, iou_threshold=0.5, label=\"ALL\")\n",
        "rules.add(metric=\"Recall\", conf_threshold=0.1, metric_threshold=0.7, iou_threshold=0.5, label=\"ALL\")\n",
        "rules.add(metric=\"F1Score\", conf_threshold=0.1, metric_threshold=0.7, iou_threshold=0.5, label=\"ALL\")\n",
        "\n",
        "\n",
        "edge_case_detection = failure_mode_analysis(test_session=test_session,\n",
        "                                            dataset_name = dataset_name,\n",
        "                                            test_name = \"FMA-Meta-Test-1\",\n",
        "                                            model = \"ModelA\",\n",
        "                                            gt = \"GT\",\n",
        "                                            rules = rules,\n",
        "                                            output_type=\"object_detection\",\n",
        "                                            type=\"metadata\",\n",
        "                                            aggregation_level=['daytime','country','streetconditions','roadtype']\n",
        "                                            # aggregation_level=['roadtype']\n",
        "                                            )\n",
        "\n",
        "test_session.add(edge_case_detection)\n",
        "\n",
        "test_session.run()"
      ]
    },
    {
      "cell_type": "markdown",
      "metadata": {
        "id": "G-UhFX-7E_wE"
      },
      "source": [
        "### Failure Mode Analysis - Metadata Test (Depth Level)\n"
      ]
    },
    {
      "cell_type": "code",
      "execution_count": null,
      "metadata": {
        "id": "mjoty5JDFDHX"
      },
      "outputs": [],
      "source": [
        "test_session = TestSession(\n",
        "    project_name=\"Continental-Projects\",\n",
        "    run_name=run_name,\n",
        "    access_key=ACCESS_KEY,\n",
        "    secret_key=SECRET_KEY,\n",
        "    host=HOST\n",
        ")\n",
        "\n",
        "rules = FMARules()\n",
        "rules.add(metric=\"Precision\", conf_threshold=0.1, metric_threshold=0.95, iou_threshold=0.5, label=\"ALL\")\n",
        "rules.add(metric=\"Recall\", conf_threshold=0.1, metric_threshold=0.95, iou_threshold=0.5, label=\"ALL\")\n",
        "rules.add(metric=\"F1Score\", conf_threshold=0.1, metric_threshold=0.95, iou_threshold=0.5, label=\"ALL\")\n",
        "\n",
        "\n",
        "edge_case_detection = failure_mode_analysis(test_session=test_session,\n",
        "                                            dataset_name = \"fma_roi_v1\",\n",
        "                                            test_name = \"Test2\",\n",
        "                                            model = \"ModelA\",\n",
        "                                            gt = \"GT\",\n",
        "                                            rules = rules,\n",
        "                                            output_type=\"object_detection\",\n",
        "                                            type=\"metadata\",\n",
        "                                            aggregation_level=['depth_level']\n",
        "                                            )\n",
        "\n",
        "test_session.add(edge_case_detection)\n",
        "\n",
        "test_session.run()"
      ]
    },
    {
      "cell_type": "markdown",
      "metadata": {
        "id": "0Cs9maYTFGQe"
      },
      "source": [
        "### Labeling Quality Test\n"
      ]
    },
    {
      "cell_type": "code",
      "execution_count": null,
      "metadata": {
        "id": "KSC7X1zNFGfe"
      },
      "outputs": [],
      "source": [
        "dataset_name = \"object_detection_al_lq_v2\"\n",
        "metric_threshold = 0.75\n",
        "\n",
        "test_session = TestSession(\n",
        "    project_name=\"Continental-Projects\",\n",
        "    run_name=run_name,\n",
        "    access_key=ACCESS_KEY,\n",
        "    secret_key=SECRET_KEY,\n",
        "    host=HOST\n",
        ")\n",
        "\n",
        "rules = LQRules()\n",
        "rules.add(metric=\"mistake_score\", label=[\"ALL\"], metric_threshold=metric_threshold)\n",
        "\n",
        "edge_case_detection = labelling_quality_test(\n",
        "    test_session=test_session,\n",
        "    dataset_name=dataset_name,\n",
        "    test_name=\"labelling-quality-test-2\",\n",
        "    type=\"labelling_consistency\",\n",
        "    output_type=\"object_detection\",\n",
        "    mistake_score_col_name=\"MistakeScore\",\n",
        "    gt=\"GT\",\n",
        "    model=\"GT\",\n",
        "    rules=rules,\n",
        ")\n",
        "test_session.add(edge_case_detection)\n",
        "test_session.run()"
      ]
    },
    {
      "cell_type": "markdown",
      "metadata": {
        "id": "UDFrdBiPFRHZ"
      },
      "source": [
        "###Image Property Drift Test\n"
      ]
    },
    {
      "cell_type": "code",
      "execution_count": null,
      "metadata": {
        "id": "tyeHOVG9FQ60"
      },
      "outputs": [],
      "source": [
        "reference_dataset_name = \"od_train_after_deduplication\"\n",
        "eval_dataset_name = \"od_test_after_deduplication\"\n",
        "\n",
        "test_session = TestSession(\n",
        "    project_name=\"Continental-Projects\",\n",
        "    run_name=run_name,\n",
        "    access_key=ACCESS_KEY,\n",
        "    secret_key=SECRET_KEY,\n",
        "    host=HOST\n",
        ")\n",
        "\n",
        "\n",
        "rules = IPDRules()\n",
        "rules.add(metric=\"image-property-suite\")\n",
        "\n",
        "edge_case_detection = image_property_drift(test_session=test_session,\n",
        "                                           reference_dataset_name=reference_dataset_name,\n",
        "                                           eval_dataset_name=eval_dataset_name,\n",
        "                                           rules=rules,\n",
        "                                           test_name=\"Image-Property-Drift-test-1\",\n",
        "                                           type=\"image-property-drift\",\n",
        "                                           output_type=\"image-data\"\n",
        "                                           )\n",
        "test_session.add(edge_case_detection)\n",
        "\n",
        "test_session.run()"
      ]
    },
    {
      "cell_type": "code",
      "execution_count": null,
      "metadata": {
        "id": "cMINMo8XcnVQ"
      },
      "outputs": [],
      "source": []
    }
  ],
  "metadata": {
    "colab": {
      "provenance": []
    },
    "kernelspec": {
      "display_name": "Python 3",
      "name": "python3"
    },
    "language_info": {
      "name": "python"
    }
  },
  "nbformat": 4,
  "nbformat_minor": 0
}
